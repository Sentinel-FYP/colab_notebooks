{
  "cells": [
    {
      "cell_type": "markdown",
      "metadata": {
        "id": "view-in-github",
        "colab_type": "text"
      },
      "source": [
        "<a href=\"https://colab.research.google.com/github/Sentinel-FYP/colab_notebooks/blob/main/sentinel_data_loading.ipynb\" target=\"_parent\"><img src=\"https://colab.research.google.com/assets/colab-badge.svg\" alt=\"Open In Colab\"/></a>"
      ]
    },
    {
      "cell_type": "code",
      "source": [
        "from google.colab import drive\n",
        "drive.mount('/content/drive')"
      ],
      "metadata": {
        "id": "T7nZQz1P5AyH",
        "colab": {
          "base_uri": "https://localhost:8080/"
        },
        "outputId": "6d1878ed-a346-4e73-c53c-023279da13c8"
      },
      "execution_count": null,
      "outputs": [
        {
          "output_type": "stream",
          "name": "stdout",
          "text": [
            "Mounted at /content/drive\n"
          ]
        }
      ]
    },
    {
      "cell_type": "markdown",
      "metadata": {
        "id": "4StGz9ynOEL6"
      },
      "source": [
        "# Load video data"
      ]
    },
    {
      "cell_type": "code",
      "execution_count": null,
      "metadata": {
        "id": "9RYQIJ9C6BVH"
      },
      "outputs": [],
      "source": [
        "import tqdm\n",
        "import random\n",
        "import pathlib\n",
        "\n",
        "import matplotlib.pyplot as plt\n",
        "import seaborn as sns\n",
        "\n",
        "import os\n",
        "import zipfile as zf\n",
        "import pandas as pd\n",
        "from sklearn.model_selection import train_test_split"
      ]
    },
    {
      "cell_type": "code",
      "execution_count": null,
      "metadata": {
        "id": "lY-x7TaZlK6O",
        "colab": {
          "base_uri": "https://localhost:8080/"
        },
        "outputId": "e7dec42b-7045-4f02-dbc2-2445de943cca"
      },
      "outputs": [
        {
          "output_type": "execute_result",
          "data": {
            "text/plain": [
              "['Anomaly-Videos-Part-1.zip',\n",
              " 'Anomaly-Videos-Part-2.zip',\n",
              " 'Anomaly-Videos-Part-3.zip',\n",
              " 'Anomaly-Videos-Part-4.zip',\n",
              " 'Normal_Videos_for_Event_Recognition.zip',\n",
              " 'Testing_Normal_Videos.zip',\n",
              " 'UCF_Crimes-Train-Test-Split.zip',\n",
              " 'Training-Normal-Videos-Part-1.zip',\n",
              " 'Training-Normal-Videos-Part-2.zip']"
            ]
          },
          "metadata": {},
          "execution_count": 5
        }
      ],
      "source": [
        "DATASET_DIR = '/content/drive/MyDrive/ucf_dataset'\n",
        "zip_files = [file for file in os.listdir(DATASET_DIR) if file.endswith('zip')]\n",
        "zip_files"
      ]
    },
    {
      "cell_type": "code",
      "source": [
        "def list_files_from_zip(zip_file):\n",
        "  \"\"\" List the files in each class of the dataset given a zip file.\n",
        "\n",
        "    Args:\n",
        "      zip_file: zip file from which the files can be extracted from.\n",
        "\n",
        "    Returns:\n",
        "      List of files in each of the classes.\n",
        "  \"\"\"\n",
        "  with zf.ZipFile(zip_file) as zip:\n",
        "    return [f for f in zip.namelist() if f.endswith('.mp4')]\n",
        "\n",
        "\n",
        "def files_list_to_df(files):\n",
        "  df = pd.DataFrame({'file_path': files})\n",
        "  df['file_name'] = df['file_path'].apply(lambda x: x.split('/')[-1])\n",
        "  df['zip_folder'] = df['file_path'].apply(lambda x: x.split('/')[0])\n",
        "  df = df.set_index('file_name')\n",
        "  return df"
      ],
      "metadata": {
        "id": "I3ITAx6w-FAF"
      },
      "execution_count": null,
      "outputs": []
    },
    {
      "cell_type": "code",
      "source": [
        "def files_from_zips_list(zip_files):\n",
        "  result = pd.DataFrame()\n",
        "  for zf in zip_files:\n",
        "    files = list_files_from_zip(os.path.join(DATASET_DIR, zf))\n",
        "    df = files_list_to_df(files)\n",
        "    result = pd.concat([result, df], axis=0)\n",
        "  return result"
      ],
      "metadata": {
        "id": "adi_0z8AMR1L"
      },
      "execution_count": null,
      "outputs": []
    },
    {
      "cell_type": "code",
      "source": [
        "df = files_from_zips_list(zip_files)"
      ],
      "metadata": {
        "id": "Shf-S5pkNH06"
      },
      "execution_count": null,
      "outputs": []
    },
    {
      "cell_type": "code",
      "source": [
        "print(f\"Total Videos: {df.shape[0]}\")"
      ],
      "metadata": {
        "colab": {
          "base_uri": "https://localhost:8080/"
        },
        "id": "u9NJQTTB3Bt1",
        "outputId": "7dc690db-abf2-493b-c8f7-f88540d1442c"
      },
      "execution_count": null,
      "outputs": [
        {
          "output_type": "stream",
          "name": "stdout",
          "text": [
            "Total Videos: 1950\n"
          ]
        }
      ]
    },
    {
      "cell_type": "code",
      "source": [
        "# load annotations\n",
        "annotations = pd.read_csv(os.path.join(DATASET_DIR, 'frame_annotations.csv'))\n",
        "annotations = annotations.set_index('file_name')\n",
        "annotations['binary_class'] = annotations['is_annomaly'].map({1.0 : 'Anomaly', 0.0 : \"Normal\"})"
      ],
      "metadata": {
        "id": "Vx2Bz-RY_kC-"
      },
      "execution_count": null,
      "outputs": []
    },
    {
      "cell_type": "code",
      "source": [
        "print(f'Total Annotated Videos: {annotations.shape[0]}')"
      ],
      "metadata": {
        "colab": {
          "base_uri": "https://localhost:8080/"
        },
        "id": "DV9gXgM_3IZw",
        "outputId": "a8f2a216-33a8-4d7d-bfbc-eff819e4d4b0"
      },
      "execution_count": null,
      "outputs": [
        {
          "output_type": "stream",
          "name": "stdout",
          "text": [
            "Total Annotated Videos: 1900\n"
          ]
        }
      ]
    },
    {
      "cell_type": "code",
      "source": [
        "def merge_annotations_df(annotations, files_df):\n",
        "  result = files_df.merge(annotations, left_index=True, right_index=True, how='inner')\n",
        "  return result"
      ],
      "metadata": {
        "id": "iIXBrYMqD8oZ"
      },
      "execution_count": null,
      "outputs": []
    },
    {
      "cell_type": "code",
      "source": [
        "df = merge_annotations_df(annotations, df)\n",
        "df = df.dropna()\n",
        "print(f'Final Video Count: {df.shape[0]}')"
      ],
      "metadata": {
        "id": "_mlqjJ2hH2Db",
        "colab": {
          "base_uri": "https://localhost:8080/"
        },
        "outputId": "9a3e51e3-bede-4d69-eada-818e679da2ff"
      },
      "execution_count": null,
      "outputs": [
        {
          "output_type": "stream",
          "name": "stdout",
          "text": [
            "Final Video Count: 1749\n"
          ]
        }
      ]
    },
    {
      "cell_type": "markdown",
      "metadata": {
        "id": "rQ4l8D9dFPS7"
      },
      "source": [
        "Begin with a few videos and a limited number of classes for training. After running the above code block, notice that the class name is included in the filename of each video.\n",
        "\n",
        "Define the `get_class` function that retrieves the class name from a filename. Then, create a function called `get_files_per_class` which converts the list of all files (`files` above) into a dictionary listing the files for each class:"
      ]
    },
    {
      "cell_type": "code",
      "execution_count": null,
      "metadata": {
        "id": "yyyivOX0sO19"
      },
      "outputs": [],
      "source": [
        "def get_class(fname):\n",
        "  \"\"\" Retrieve the name of the class given a filename/file_path.\n",
        "\n",
        "    Args:\n",
        "      fname: Name of the file in the UCF Crime dataset.\n",
        "    Returns:\n",
        "      Class that the file belongs to.\n",
        "  \"\"\"\n",
        "  fname = fname.split('/')[-1]\n",
        "  class_name = fname.split('_')[0]\n",
        "  #remove numbers\n",
        "  class_name = ''.join(char for char in class_name if not char.isnumeric())\n",
        "  if class_name == \"Normal\":\n",
        "    return \"Normal\"\n",
        "  else:\n",
        "    return \"Anomaly\""
      ]
    },
    {
      "cell_type": "code",
      "execution_count": null,
      "metadata": {
        "id": "1qnH0xKzlyw_"
      },
      "outputs": [],
      "source": [
        "def get_files_per_column(annotations, column='binary_class', file_column=''):\n",
        "  \"\"\" Retrieve the files that belong to each class.\n",
        "\n",
        "    Args:\n",
        "      annotations: pandas Dataframe of annotated frames\n",
        "      column: column by which files are categorized\n",
        "    Returns:\n",
        "      Dictionary of class names (key) and files (values).\n",
        "  \"\"\"\n",
        "  class_file_dict = {}\n",
        "  # Iterate through unique class names\n",
        "  for class_name in annotations[column].unique():\n",
        "      # Filter the DataFrame for rows with the current class\n",
        "      class_data = annotations[annotations[column] == class_name]\n",
        "      # Extract the file names as a list\n",
        "      if file_column == '':\n",
        "        file_names = class_data.index.tolist()\n",
        "      else:\n",
        "        file_names = class_data[file_column].tolist()\n",
        "\n",
        "      # Add the class name and file names to the dictionary\n",
        "      class_file_dict[class_name] = file_names\n",
        "  return class_file_dict"
      ]
    },
    {
      "cell_type": "markdown",
      "metadata": {
        "id": "VxSt5YgSGrWn"
      },
      "source": [
        "Once you have the list of files per class, you can choose how many classes you would like to use and how many videos you would like per class in order to create your dataset."
      ]
    },
    {
      "cell_type": "code",
      "execution_count": null,
      "metadata": {
        "id": "qPdURg74uUTk"
      },
      "outputs": [],
      "source": [
        "FILES_PER_CLASS = 500"
      ]
    },
    {
      "cell_type": "code",
      "execution_count": null,
      "metadata": {
        "id": "GUs0xtXsr9i3"
      },
      "outputs": [],
      "source": [
        "files_for_class = get_files_per_column(df, column='binary_class')\n",
        "classes = list(files_for_class.keys())\n"
      ]
    },
    {
      "cell_type": "code",
      "execution_count": null,
      "metadata": {
        "id": "-YqFARvqwon9",
        "colab": {
          "base_uri": "https://localhost:8080/"
        },
        "outputId": "8f361403-0dd4-497c-9e36-2ea18e0ddb14"
      },
      "outputs": [
        {
          "output_type": "stream",
          "name": "stdout",
          "text": [
            "Num classes: 2\n",
            "Classes:  ['Anomaly', 'Normal']\n",
            "Num videos for class[0]: 949\n",
            "Num videos for class[1]: 800\n"
          ]
        }
      ],
      "source": [
        "NUM_CLASSES = len(classes)\n",
        "print('Num classes:', len(classes))\n",
        "print(\"Classes: \", classes)\n",
        "print('Num videos for class[0]:', len(files_for_class[classes[0]]))\n",
        "print('Num videos for class[1]:', len(files_for_class[classes[1]]))"
      ]
    },
    {
      "cell_type": "markdown",
      "metadata": {
        "id": "yFAFqKqE92bQ"
      },
      "source": [
        "Create a new function called `select_subset_of_classes` that selects a subset of the classes present within the dataset and a particular number of files per class:"
      ]
    },
    {
      "cell_type": "code",
      "execution_count": null,
      "metadata": {
        "id": "O3jek4QimIj-"
      },
      "outputs": [],
      "source": [
        "def select_subset_of_classes(df, max_records_per_class, column=\"binary_class\"):\n",
        "  return df.groupby(column).head(max_records_per_class)"
      ]
    },
    {
      "cell_type": "code",
      "execution_count": null,
      "metadata": {
        "id": "5cjcz6Gpcb-W",
        "colab": {
          "base_uri": "https://localhost:8080/"
        },
        "outputId": "ce36014f-3e78-4eb9-d233-789bcae2faa5"
      },
      "outputs": [
        {
          "output_type": "stream",
          "name": "stdout",
          "text": [
            "Number of videos in the subset:  1000\n"
          ]
        }
      ],
      "source": [
        "df = select_subset_of_classes(df, FILES_PER_CLASS, column='binary_class')\n",
        "print(\"Number of videos in the subset: \", df.shape[0])"
      ]
    },
    {
      "cell_type": "code",
      "source": [
        "def split_dataframe(df, train_percent=0.70, val_percent=0.15, test_percent=0.15, random_seed=None):\n",
        "    \"\"\"\n",
        "    Splits a DataFrame into three DataFrames: train_df, val_df, and test_df.\n",
        "\n",
        "    Args:\n",
        "        df (pd.DataFrame): The main DataFrame to be split.\n",
        "        train_percent (float): Percentage of data for training (default is 0.70).\n",
        "        val_percent (float): Percentage of data for validation (default is 0.15).\n",
        "        test_percent (float): Percentage of data for testing (default is 0.15).\n",
        "        random_seed (int): Seed for random number generation (optional).\n",
        "\n",
        "    Returns:\n",
        "        tuple: A tuple containing three DataFrames (train_df, val_df, test_df).\n",
        "    \"\"\"\n",
        "    if train_percent + val_percent + test_percent != 1.0:\n",
        "        raise ValueError(\"The sum of train_percent, val_percent, and test_percent must equal 1.0.\")\n",
        "\n",
        "    # Split the data into train and temp datasets\n",
        "    train_data, temp_data = train_test_split(df, train_size=train_percent, random_state=random_seed)\n",
        "    if val_percent == 0:\n",
        "      return train_data, temp_data\n",
        "    # Calculate the effective percentage for validation and testing\n",
        "    remaining_percent = 1.0 - train_percent\n",
        "    val_percent_of_remaining = val_percent / remaining_percent\n",
        "    test_percent_of_remaining = test_percent / remaining_percent\n",
        "\n",
        "    # Split the temp data into validation and test datasets\n",
        "    val_data, test_data = train_test_split(temp_data, train_size=val_percent_of_remaining, random_state=random_seed)\n",
        "\n",
        "    return train_data, val_data, test_data\n"
      ],
      "metadata": {
        "id": "n3m5Sl0-ecAG"
      },
      "execution_count": null,
      "outputs": []
    },
    {
      "cell_type": "code",
      "source": [
        "train_df, test_df = split_dataframe(df, train_percent=0.85, val_percent=0, test_percent=0.15)\n",
        "print(\"Number of Training Videos: \", train_df.shape[0])\n",
        "print(\"Number of Test Videos: \", test_df.shape[0])"
      ],
      "metadata": {
        "id": "n-Kez76tf78b",
        "colab": {
          "base_uri": "https://localhost:8080/"
        },
        "outputId": "5e457d29-d010-40d5-cfa8-2c2d75085395"
      },
      "execution_count": null,
      "outputs": [
        {
          "output_type": "stream",
          "name": "stdout",
          "text": [
            "Number of Training Videos:  850\n",
            "Number of Test Videos:  150\n"
          ]
        }
      ]
    },
    {
      "cell_type": "code",
      "source": [
        "sns.countplot(train_df, x='binary_class')\n",
        "plt.title('Class Distribution in Train Set')\n",
        "\n"
      ],
      "metadata": {
        "colab": {
          "base_uri": "https://localhost:8080/",
          "height": 489
        },
        "id": "OMN5YpuG4Hh-",
        "outputId": "d1f2b654-71cd-4147-b1c5-cb855c1974f2"
      },
      "execution_count": null,
      "outputs": [
        {
          "output_type": "execute_result",
          "data": {
            "text/plain": [
              "Text(0.5, 1.0, 'Class Distribution in Train Set')"
            ]
          },
          "metadata": {},
          "execution_count": 32
        },
        {
          "output_type": "display_data",
          "data": {
            "text/plain": [
              "<Figure size 640x480 with 1 Axes>"
            ],
            "image/png": "[encoded data removed]"
          },
          "metadata": {}
        }
      ]
    },
    {
      "cell_type": "code",
      "source": [
        "sns.countplot(test_df, x='binary_class')\n",
        "plt.title('Class Distribution in Test Set')"
      ],
      "metadata": {
        "colab": {
          "base_uri": "https://localhost:8080/",
          "height": 489
        },
        "id": "0tLJamPL4rRu",
        "outputId": "8a639f6c-56f2-4da4-c89a-cf9d7ace51a1"
      },
      "execution_count": null,
      "outputs": [
        {
          "output_type": "execute_result",
          "data": {
            "text/plain": [
              "Text(0.5, 1.0, 'Class Distribution in Test Set')"
            ]
          },
          "metadata": {},
          "execution_count": 33
        },
        {
          "output_type": "display_data",
          "data": {
            "text/plain": [
              "<Figure size 640x480 with 1 Axes>"
            ],
            "image/png": "[encoded data removed]"
          },
          "metadata": {}
        }
      ]
    },
    {
      "cell_type": "code",
      "execution_count": null,
      "metadata": {
        "id": "AH9sWS_6nRz3"
      },
      "outputs": [],
      "source": [
        "def extract_from_zip(zip_file, to_dir, file_names):\n",
        "  with zf.ZipFile(zip_file) as zip:\n",
        "    for fn in tqdm.tqdm(file_names):\n",
        "      class_name = get_class(fn)\n",
        "      zip.extract(fn, str(to_dir / class_name))\n",
        "      unzipped_file = to_dir / class_name / fn\n",
        "      fn = pathlib.Path(fn).parts[-1]\n",
        "      output_file = to_dir / class_name / fn\n",
        "      unzipped_file.rename(output_file)\n",
        "\n",
        "def remove_empty_folders(target_directory):\n",
        "    for root, dirs, files in os.walk(target_directory, topdown=False):\n",
        "      for directory in dirs:\n",
        "          directory_path = os.path.join(root, directory)\n",
        "          if not os.listdir(directory_path):\n",
        "              os.rmdir(directory_path)"
      ]
    },
    {
      "cell_type": "code",
      "source": [
        "def extract_from_df(df, output_dir):\n",
        "  files_per_zip = get_files_per_column(df, column='zip_folder', file_column='file_path')\n",
        "  for zip_file, file_names in files_per_zip.items():\n",
        "    extract_from_zip(os.path.join(DATASET_DIR, zip_file + \".zip\"), output_dir, file_names)\n",
        "  remove_empty_folders(str(output_dir))"
      ],
      "metadata": {
        "id": "7GntJdYkc7pf"
      },
      "execution_count": null,
      "outputs": []
    },
    {
      "cell_type": "code",
      "source": [
        "output_dir = pathlib.Path('/content/drive/MyDrive/ucf_extracted')\n",
        "paths = {}\n",
        "paths['train'] = output_dir / 'train'\n",
        "paths['val'] = output_dir / 'val'\n",
        "paths['test'] = output_dir / 'test'\n"
      ],
      "metadata": {
        "id": "fbT0j2qkZsjy"
      },
      "execution_count": null,
      "outputs": []
    },
    {
      "cell_type": "code",
      "source": [
        "!rm -r /content/drive/MyDrive/ucf_extracted"
      ],
      "metadata": {
        "colab": {
          "base_uri": "https://localhost:8080/"
        },
        "id": "1-ON26PooogP",
        "outputId": "159c139e-280d-43f6-ee58-4b5287f65718"
      },
      "execution_count": null,
      "outputs": [
        {
          "output_type": "stream",
          "name": "stdout",
          "text": [
            "rm: cannot remove '/content/drive/MyDrive/ucf_extracted': No such file or directory\n"
          ]
        }
      ]
    },
    {
      "cell_type": "code",
      "source": [
        "extract_from_df(train_df, paths['train'])\n",
        "extract_from_df(test_df, paths['test'])"
      ],
      "metadata": {
        "colab": {
          "base_uri": "https://localhost:8080/"
        },
        "id": "IeVoR1v3mk83",
        "outputId": "132e9770-f2f5-4027-bd36-4084d17b7675"
      },
      "execution_count": null,
      "outputs": [
        {
          "output_type": "stream",
          "name": "stderr",
          "text": [
            "100%|██████████| 172/172 [03:46<00:00,  1.32s/it]\n",
            "100%|██████████| 363/363 [15:06<00:00,  2.50s/it]\n",
            "100%|██████████| 84/84 [00:53<00:00,  1.57it/s]\n",
            "100%|██████████| 173/173 [03:15<00:00,  1.13s/it]\n",
            "100%|██████████| 58/58 [06:17<00:00,  6.51s/it]\n",
            "100%|██████████| 27/27 [00:51<00:00,  1.92s/it]\n",
            "100%|██████████| 67/67 [05:44<00:00,  5.14s/it]\n",
            "100%|██████████| 16/16 [00:23<00:00,  1.44s/it]\n",
            "100%|██████████| 28/28 [00:58<00:00,  2.08s/it]\n",
            "100%|██████████| 12/12 [01:44<00:00,  8.69s/it]\n"
          ]
        }
      ]
    },
    {
      "cell_type": "markdown",
      "metadata": {
        "id": "MBMRm9Ub3Zrk"
      },
      "source": [
        "After downloading the data, you should now have a copy of a subset of the UCF101 dataset. Run the following code to print the total number of videos you have amongst all your subsets of data."
      ]
    },
    {
      "cell_type": "code",
      "execution_count": null,
      "metadata": {
        "id": "zupvOLYP4D4q",
        "colab": {
          "base_uri": "https://localhost:8080/"
        },
        "outputId": "88a78061-119d-453a-8581-a0abeb3c4dd3"
      },
      "outputs": [
        {
          "output_type": "stream",
          "name": "stdout",
          "text": [
            "Total videos: 0\n"
          ]
        }
      ],
      "source": [
        "video_count_train = len(list(output_dir.glob('train/*/*.mp4')))\n",
        "video_count_val = len(list(output_dir.glob('val/*/*.mp4')))\n",
        "video_count_test = len(list(output_dir.glob('test/*/*.mp4')))\n",
        "video_total = video_count_train + video_count_val + video_count_test\n",
        "print(f\"Total videos: {video_total}\")"
      ]
    },
    {
      "cell_type": "markdown",
      "metadata": {
        "id": "JmJG1SlXiOX8"
      },
      "source": [
        "You can also preview the directory of data files now."
      ]
    },
    {
      "cell_type": "code",
      "execution_count": null,
      "metadata": {
        "id": "y9be0WlDiNM0",
        "colab": {
          "base_uri": "https://localhost:8080/"
        },
        "outputId": "ea4d0825-f0d9-4e22-daad-f0d85f267d89"
      },
      "outputs": [
        {
          "output_type": "stream",
          "name": "stdout",
          "text": [
            "/drive/MyDrive/ucf_extracted\n",
            "/drive/MyDrive/ucf_extracted/test\n",
            "/drive/MyDrive/ucf_extracted/test/Anomaly\n",
            "/drive/MyDrive/ucf_extracted/test/Anomaly/Assault004_x264.mp4\n",
            "/drive/MyDrive/ucf_extracted/test/Anomaly/Arson030_x264.mp4\n",
            "/drive/MyDrive/ucf_extracted/test/Anomaly/Assault012_x264.mp4\n",
            "/drive/MyDrive/ucf_extracted/test/Anomaly/Assault005_x264.mp4\n",
            "/drive/MyDrive/ucf_extracted/test/Anomaly/Abuse017_x264.mp4\n",
            "/drive/MyDrive/ucf_extracted/test/Anomaly/RoadAccidents087_x264.mp4\n",
            "/drive/MyDrive/ucf_extracted/test/Anomaly/Arrest010_x264.mp4\n",
            "/drive/MyDrive/ucf_extracted/test/Anomaly/Abuse046_x264.mp4\n",
            "/drive/MyDrive/ucf_extracted/test/Anomaly/RoadAccidents075_x264.mp4\n",
            "/drive/MyDrive/ucf_extracted/test/Anomaly/RoadAccidents015_x264.mp4\n",
            "/drive/MyDrive/ucf_extracted/test/Anomaly/RoadAccidents078_x264.mp4\n",
            "/drive/MyDrive/ucf_extracted/test/Anomaly/Abuse016_x264.mp4\n",
            "/drive/MyDrive/ucf_extracted/test/Anomaly/Burglary088_x264.mp4\n",
            "/drive/MyDrive/ucf_extracted/test/Anomaly/RoadAccidents083_x264.mp4\n",
            "/drive/MyDrive/ucf_extracted/test/Anomaly/Assault045_x264.mp4\n",
            "/drive/MyDrive/ucf_extracted/test/Anomaly/RoadAccidents084_x264.mp4\n",
            "/drive/MyDrive/ucf_extracted/test/Anomaly/Abuse042_x264.mp4\n",
            "/drive/MyDrive/ucf_extracted/test/Anomaly/RoadAccidents010_x264.mp4\n",
            "/drive/MyDrive/ucf_extracted/test/Anomaly/Explosion046_x264.mp4\n",
            "/drive/MyDrive/ucf_extracted/test/Anomaly/Arson038_x264.mp4\n",
            "/drive/MyDrive/ucf_extracted/test/Anomaly/Arrest016_x264.mp4\n",
            "/drive/MyDrive/ucf_extracted/test/Anomaly/Explosion033_x264.mp4\n",
            "/drive/MyDrive/ucf_extracted/test/Anomaly/Burglary005_x264.mp4\n",
            "/drive/MyDrive/ucf_extracted/test/Anomaly/Burglary021_x264.mp4\n",
            "/drive/MyDrive/ucf_extracted/test/Anomaly/Abuse026_x264.mp4\n",
            "/drive/MyDrive/ucf_extracted/test/Anomaly/Burglary064_x264.mp4\n",
            "/drive/MyDrive/ucf_extracted/test/Anomaly/Fighting009_x264.mp4\n",
            "/drive/MyDrive/ucf_extracted/test/Anomaly/Burglary094_x264.mp4\n",
            "/drive/MyDrive/ucf_extracted/test/Anomaly/Burglary077_x264.mp4\n",
            "/drive/MyDrive/ucf_extracted/test/Anomaly/Fighting036_x264.mp4\n",
            "/drive/MyDrive/ucf_extracted/test/Anomaly/Arson036_x264.mp4\n",
            "/drive/MyDrive/ucf_extracted/test/Anomaly/Assault017_x264.mp4\n",
            "/drive/MyDrive/ucf_extracted/test/Anomaly/RoadAccidents090_x264.mp4\n",
            "/drive/MyDrive/ucf_extracted/test/Anomaly/Abuse001_x264.mp4\n",
            "/drive/MyDrive/ucf_extracted/test/Anomaly/Assault014_x264.mp4\n",
            "/drive/MyDrive/ucf_extracted/test/Anomaly/Burglary007_x264.mp4\n",
            "/drive/MyDrive/ucf_extracted/test/Anomaly/Fighting040_x264.mp4\n",
            "/drive/MyDrive/ucf_extracted/test/Anomaly/Explosion018_x264.mp4\n",
            "/drive/MyDrive/ucf_extracted/test/Anomaly/Assault036_x264.mp4\n",
            "/drive/MyDrive/ucf_extracted/test/Anomaly/Burglary033_x264.mp4\n",
            "/drive/MyDrive/ucf_extracted/test/Anomaly/Explosion034_x264.mp4\n",
            "/drive/MyDrive/ucf_extracted/test/Anomaly/Assault050_x264.mp4\n",
            "/drive/MyDrive/ucf_extracted/test/Anomaly/Abuse008_x264.mp4\n",
            "/drive/MyDrive/ucf_extracted/test/Anomaly/RoadAccidents055_x264.mp4\n",
            "/drive/MyDrive/ucf_extracted/test/Anomaly/RoadAccidents038_x264.mp4\n",
            "/drive/MyDrive/ucf_extracted/test/Anomaly/RoadAccidents067_x264.mp4\n",
            "/drive/MyDrive/ucf_extracted/test/Anomaly/Abuse029_x264.mp4\n",
            "/drive/MyDrive/ucf_extracted/test/Anomaly/Abuse030_x264.mp4\n",
            "/drive/MyDrive/ucf_extracted/test/Anomaly/Arrest006_x264.mp4\n",
            "/drive/MyDrive/ucf_extracted/test/Anomaly/Explosion026_x264.mp4\n",
            "/drive/MyDrive/ucf_extracted/test/Anomaly/Arson026_x264.mp4\n",
            "/drive/MyDrive/ucf_extracted/test/Anomaly/RoadAccidents069_x264.mp4\n",
            "/drive/MyDrive/ucf_extracted/test/Anomaly/Burglary096_x264.mp4\n",
            "/drive/MyDrive/ucf_extracted/test/Anomaly/Arson006_x264.mp4\n",
            "/drive/MyDrive/ucf_extracted/test/Anomaly/RoadAccidents044_x264.mp4\n",
            "/drive/MyDrive/ucf_extracted/test/Anomaly/Abuse011_x264.mp4\n",
            "/drive/MyDrive/ucf_extracted/test/Anomaly/RoadAccidents022_x264.mp4\n",
            "/drive/MyDrive/ucf_extracted/test/Anomaly/Fighting041_x264.mp4\n",
            "/drive/MyDrive/ucf_extracted/test/Anomaly/Burglary001_x264.mp4\n",
            "/drive/MyDrive/ucf_extracted/test/Anomaly/RoadAccidents071_x264.mp4\n",
            "/drive/MyDrive/ucf_extracted/test/Anomaly/Assault011_x264.mp4\n",
            "/drive/MyDrive/ucf_extracted/test/Anomaly/Burglary009_x264.mp4\n",
            "/drive/MyDrive/ucf_extracted/test/Anomaly/Arson049_x264.mp4\n",
            "/drive/MyDrive/ucf_extracted/test/Anomaly/Arson024_x264.mp4\n",
            "/drive/MyDrive/ucf_extracted/test/Anomaly/Assault009_x264.mp4\n",
            "/drive/MyDrive/ucf_extracted/test/Anomaly/Abuse049_x264.mp4\n",
            "/drive/MyDrive/ucf_extracted/test/Anomaly/RoadAccidents079_x264.mp4\n",
            "/drive/MyDrive/ucf_extracted/test/Anomaly/Explosion027_x264.mp4\n",
            "/drive/MyDrive/ucf_extracted/test/Anomaly/Assault013_x264.mp4\n",
            "/drive/MyDrive/ucf_extracted/test/Normal\n",
            "/drive/MyDrive/ucf_extracted/test/Normal/Normal_Videos047_x264.mp4\n",
            "/drive/MyDrive/ucf_extracted/test/Normal/Normal_Videos374_x264.mp4\n",
            "/drive/MyDrive/ucf_extracted/test/Normal/Normal_Videos430_x264.mp4\n",
            "/drive/MyDrive/ucf_extracted/test/Normal/Normal_Videos199_x264.mp4\n",
            "/drive/MyDrive/ucf_extracted/test/Normal/Normal_Videos273_x264.mp4\n",
            "/drive/MyDrive/ucf_extracted/test/Normal/Normal_Videos222_x264.mp4\n",
            "/drive/MyDrive/ucf_extracted/test/Normal/Normal_Videos266_x264.mp4\n",
            "/drive/MyDrive/ucf_extracted/test/Normal/Normal_Videos031_x264.mp4\n",
            "/drive/MyDrive/ucf_extracted/test/Normal/Normal_Videos511_x264.mp4\n",
            "/drive/MyDrive/ucf_extracted/test/Normal/Normal_Videos297_x264.mp4\n",
            "/drive/MyDrive/ucf_extracted/test/Normal/Normal_Videos451_x264.mp4\n",
            "/drive/MyDrive/ucf_extracted/test/Normal/Normal_Videos519_x264.mp4\n",
            "/drive/MyDrive/ucf_extracted/test/Normal/Normal_Videos270_x264.mp4\n",
            "/drive/MyDrive/ucf_extracted/test/Normal/Normal_Videos274_x264.mp4\n",
            "/drive/MyDrive/ucf_extracted/test/Normal/Normal_Videos176_x264.mp4\n",
            "/drive/MyDrive/ucf_extracted/test/Normal/Normal_Videos444_x264.mp4\n",
            "/drive/MyDrive/ucf_extracted/test/Normal/Normal_Videos083_x264.mp4\n",
            "/drive/MyDrive/ucf_extracted/test/Normal/Normal_Videos114_x264.mp4\n",
            "/drive/MyDrive/ucf_extracted/test/Normal/Normal_Videos392_x264.mp4\n",
            "/drive/MyDrive/ucf_extracted/test/Normal/Normal_Videos212_x264.mp4\n",
            "/drive/MyDrive/ucf_extracted/test/Normal/Normal_Videos496_x264.mp4\n",
            "/drive/MyDrive/ucf_extracted/test/Normal/Normal_Videos049_x264.mp4\n",
            "/drive/MyDrive/ucf_extracted/test/Normal/Normal_Videos125_x264.mp4\n",
            "/drive/MyDrive/ucf_extracted/test/Normal/Normal_Videos278_x264.mp4\n",
            "/drive/MyDrive/ucf_extracted/test/Normal/Normal_Videos458_x264.mp4\n",
            "/drive/MyDrive/ucf_extracted/test/Normal/Normal_Videos107_x264.mp4\n",
            "/drive/MyDrive/ucf_extracted/test/Normal/Normal_Videos037_x264.mp4\n",
            "/drive/MyDrive/ucf_extracted/test/Normal/Normal_Videos426_x264.mp4\n",
            "/drive/MyDrive/ucf_extracted/test/Normal/Normal_Videos355_x264.mp4\n",
            "/drive/MyDrive/ucf_extracted/test/Normal/Normal_Videos394_x264.mp4\n",
            "/drive/MyDrive/ucf_extracted/test/Normal/Normal_Videos368_x264.mp4\n",
            "/drive/MyDrive/ucf_extracted/test/Normal/Normal_Videos545_x264.mp4\n",
            "/drive/MyDrive/ucf_extracted/test/Normal/Normal_Videos438_x264.mp4\n",
            "/drive/MyDrive/ucf_extracted/test/Normal/Normal_Videos071_x264.mp4\n",
            "/drive/MyDrive/ucf_extracted/test/Normal/Normal_Videos178_x264.mp4\n",
            "/drive/MyDrive/ucf_extracted/test/Normal/Normal_Videos541_x264.mp4\n",
            "/drive/MyDrive/ucf_extracted/test/Normal/Normal_Videos294_x264.mp4\n",
            "/drive/MyDrive/ucf_extracted/test/Normal/Normal_Videos257_x264.mp4\n",
            "/drive/MyDrive/ucf_extracted/test/Normal/Normal_Videos093_x264.mp4\n",
            "/drive/MyDrive/ucf_extracted/test/Normal/Normal_Videos208_x264.mp4\n",
            "/drive/MyDrive/ucf_extracted/test/Normal/Normal_Videos302_x264.mp4\n",
            "/drive/MyDrive/ucf_extracted/test/Normal/Normal_Videos260_x264.mp4\n",
            "/drive/MyDrive/ucf_extracted/test/Normal/Normal_Videos517_x264.mp4\n",
            "/drive/MyDrive/ucf_extracted/test/Normal/Normal_Videos142_x264.mp4\n",
            "/drive/MyDrive/ucf_extracted/test/Normal/Normal_Videos007_x264.mp4\n",
            "/drive/MyDrive/ucf_extracted/test/Normal/Normal_Videos495_x264.mp4\n",
            "/drive/MyDrive/ucf_extracted/test/Normal/Normal_Videos286_x264.mp4\n",
            "/drive/MyDrive/ucf_extracted/test/Normal/Normal_Videos405_x264.mp4\n",
            "/drive/MyDrive/ucf_extracted/test/Normal/Normal_Videos435_x264.mp4\n",
            "/drive/MyDrive/ucf_extracted/test/Normal/Normal_Videos491_x264.mp4\n",
            "/drive/MyDrive/ucf_extracted/test/Normal/Normal_Videos180_x264.mp4\n",
            "/drive/MyDrive/ucf_extracted/test/Normal/Normal_Videos533_x264.mp4\n",
            "/drive/MyDrive/ucf_extracted/test/Normal/Normal_Videos060_x264.mp4\n",
            "/drive/MyDrive/ucf_extracted/test/Normal/Normal_Videos319_x264.mp4\n",
            "/drive/MyDrive/ucf_extracted/test/Normal/Normal_Videos455_x264.mp4\n",
            "/drive/MyDrive/ucf_extracted/test/Normal/Normal_Videos300_x264.mp4\n",
            "/drive/MyDrive/ucf_extracted/test/Normal/Normal_Videos346_x264.mp4\n",
            "/drive/MyDrive/ucf_extracted/test/Normal/Normal_Videos456_x264.mp4\n",
            "/drive/MyDrive/ucf_extracted/test/Normal/Normal_Videos230_x264.mp4\n",
            "/drive/MyDrive/ucf_extracted/test/Normal/Normal_Videos191_x264.mp4\n",
            "/drive/MyDrive/ucf_extracted/test/Normal/Normal_Videos382_x264.mp4\n",
            "/drive/MyDrive/ucf_extracted/test/Normal/Normal_Videos179_x264.mp4\n",
            "/drive/MyDrive/ucf_extracted/test/Normal/Normal_Videos409_x264.mp4\n",
            "/drive/MyDrive/ucf_extracted/test/Normal/Normal_Videos443_x264.mp4\n",
            "/drive/MyDrive/ucf_extracted/test/Normal/Normal_Videos348_x264.mp4\n",
            "/drive/MyDrive/ucf_extracted/test/Normal/Normal_Videos268_x264.mp4\n",
            "/drive/MyDrive/ucf_extracted/test/Normal/Normal_Videos076_x264.mp4\n",
            "/drive/MyDrive/ucf_extracted/test/Normal/Normal_Videos194_x264.mp4\n",
            "/drive/MyDrive/ucf_extracted/test/Normal/Normal_Videos526_x264.mp4\n",
            "/drive/MyDrive/ucf_extracted/test/Normal/Normal_Videos250_x264.mp4\n",
            "/drive/MyDrive/ucf_extracted/test/Normal/Normal_Videos280_x264.mp4\n",
            "/drive/MyDrive/ucf_extracted/test/Normal/Normal_Videos078_x264.mp4\n",
            "/drive/MyDrive/ucf_extracted/test/Normal/Normal_Videos480_x264.mp4\n",
            "/drive/MyDrive/ucf_extracted/test/Normal/Normal_Videos232_x264.mp4\n",
            "/drive/MyDrive/ucf_extracted/test/Normal/Normal_Videos103_x264.mp4\n",
            "/drive/MyDrive/ucf_extracted/test/Normal/Normal_Videos530_x264.mp4\n",
            "/drive/MyDrive/ucf_extracted/test/Normal/Normal_Videos238_x264.mp4\n",
            "/drive/MyDrive/ucf_extracted/test/Normal/Normal_Videos209_x264.mp4\n",
            "/drive/MyDrive/ucf_extracted/test/Normal/Normal_Videos527_x264.mp4\n",
            "/drive/MyDrive/ucf_extracted/test/Normal/Normal_Videos062_x264.mp4\n",
            "/drive/MyDrive/ucf_extracted/test/Normal/Normal_Videos404_x264.mp4\n",
            "/drive/MyDrive/ucf_extracted/train\n",
            "/drive/MyDrive/ucf_extracted/train/Anomaly\n",
            "/drive/MyDrive/ucf_extracted/train/Anomaly/Arrest029_x264.mp4\n",
            "/drive/MyDrive/ucf_extracted/train/Anomaly/Assault002_x264.mp4\n",
            "/drive/MyDrive/ucf_extracted/train/Anomaly/RoadAccidents039_x264.mp4\n",
            "/drive/MyDrive/ucf_extracted/train/Anomaly/Burglary098_x264.mp4\n",
            "/drive/MyDrive/ucf_extracted/train/Anomaly/Abuse024_x264.mp4\n",
            "/drive/MyDrive/ucf_extracted/train/Anomaly/Fighting013_x264.mp4\n",
            "/drive/MyDrive/ucf_extracted/train/Anomaly/Arson011_x264.mp4\n",
            "/drive/MyDrive/ucf_extracted/train/Anomaly/Burglary057_x264.mp4\n",
            "/drive/MyDrive/ucf_extracted/train/Anomaly/Arson008_x264.mp4\n",
            "/drive/MyDrive/ucf_extracted/train/Anomaly/Fighting047_x264.mp4\n",
            "/drive/MyDrive/ucf_extracted/train/Anomaly/Fighting042_x264.mp4\n",
            "/drive/MyDrive/ucf_extracted/train/Anomaly/Abuse002_x264.mp4\n",
            "/drive/MyDrive/ucf_extracted/train/Anomaly/Arrest015_x264.mp4\n",
            "/drive/MyDrive/ucf_extracted/train/Anomaly/Explosion016_x264.mp4\n",
            "/drive/MyDrive/ucf_extracted/train/Anomaly/Arrest044_x264.mp4\n",
            "/drive/MyDrive/ucf_extracted/train/Anomaly/Abuse022_x264.mp4\n",
            "/drive/MyDrive/ucf_extracted/train/Anomaly/Arrest042_x264.mp4\n",
            "/drive/MyDrive/ucf_extracted/train/Anomaly/Fighting027_x264.mp4\n",
            "/drive/MyDrive/ucf_extracted/train/Anomaly/Burglary015_x264.mp4\n",
            "/drive/MyDrive/ucf_extracted/train/Anomaly/Fighting025_x264.mp4\n",
            "/drive/MyDrive/ucf_extracted/train/Anomaly/Burglary067_x264.mp4\n",
            "/drive/MyDrive/ucf_extracted/train/Anomaly/Arrest002_x264.mp4\n",
            "/drive/MyDrive/ucf_extracted/train/Anomaly/Burglary075_x264.mp4\n",
            "/drive/MyDrive/ucf_extracted/train/Anomaly/Fighting026_x264.mp4\n",
            "/drive/MyDrive/ucf_extracted/train/Anomaly/Explosion042_x264.mp4\n",
            "/drive/MyDrive/ucf_extracted/train/Anomaly/Arson037_x264.mp4\n",
            "/drive/MyDrive/ucf_extracted/train/Anomaly/Abuse045_x264.mp4\n",
            "/drive/MyDrive/ucf_extracted/train/Anomaly/Arrest011_x264.mp4\n",
            "/drive/MyDrive/ucf_extracted/train/Anomaly/Burglary083_x264.mp4\n",
            "/drive/MyDrive/ucf_extracted/train/Anomaly/RoadAccidents099_x264.mp4\n",
            "/drive/MyDrive/ucf_extracted/train/Anomaly/RoadAccidents077_x264.mp4\n",
            "/drive/MyDrive/ucf_extracted/train/Anomaly/RoadAccidents056_x264.mp4\n",
            "/drive/MyDrive/ucf_extracted/train/Anomaly/Arson022_x264.mp4\n",
            "/drive/MyDrive/ucf_extracted/train/Anomaly/Burglary020_x264.mp4\n",
            "/drive/MyDrive/ucf_extracted/train/Anomaly/RoadAccidents101_x264.mp4\n",
            "/drive/MyDrive/ucf_extracted/train/Anomaly/Burglary046_x264.mp4\n",
            "/drive/MyDrive/ucf_extracted/train/Anomaly/RoadAccidents042_x264.mp4\n",
            "/drive/MyDrive/ucf_extracted/train/Anomaly/Arson035_x264.mp4\n",
            "/drive/MyDrive/ucf_extracted/train/Anomaly/Explosion009_x264.mp4\n",
            "/drive/MyDrive/ucf_extracted/train/Anomaly/Burglary071_x264.mp4\n",
            "/drive/MyDrive/ucf_extracted/train/Anomaly/Arrest028_x264.mp4\n",
            "/drive/MyDrive/ucf_extracted/train/Anomaly/Fighting034_x264.mp4\n",
            "/drive/MyDrive/ucf_extracted/train/Anomaly/Explosion014_x264.mp4\n",
            "/drive/MyDrive/ucf_extracted/train/Anomaly/RoadAccidents024_x264.mp4\n",
            "/drive/MyDrive/ucf_extracted/train/Anomaly/Arrest034_x264.mp4\n",
            "/drive/MyDrive/ucf_extracted/train/Anomaly/Fighting051_x264.mp4\n",
            "/drive/MyDrive/ucf_extracted/train/Anomaly/Arrest048_x264.mp4\n",
            "/drive/MyDrive/ucf_extracted/train/Anomaly/RoadAccidents081_x264.mp4\n",
            "/drive/MyDrive/ucf_extracted/train/Anomaly/Burglary049_x264.mp4\n",
            "/drive/MyDrive/ucf_extracted/train/Anomaly/RoadAccidents086_x264.mp4\n",
            "/drive/MyDrive/ucf_extracted/train/Anomaly/Fighting048_x264.mp4\n",
            "/drive/MyDrive/ucf_extracted/train/Anomaly/RoadAccidents016_x264.mp4\n",
            "/drive/MyDrive/ucf_extracted/train/Anomaly/Abuse021_x264.mp4\n",
            "/drive/MyDrive/ucf_extracted/train/Anomaly/Burglary017_x264.mp4\n",
            "/drive/MyDrive/ucf_extracted/train/Anomaly/Burglary002_x264.mp4\n",
            "/drive/MyDrive/ucf_extracted/train/Anomaly/Burglary082_x264.mp4\n",
            "/drive/MyDrive/ucf_extracted/train/Anomaly/Burglary074_x264.mp4\n",
            "/drive/MyDrive/ucf_extracted/train/Anomaly/Burglary032_x264.mp4\n",
            "/drive/MyDrive/ucf_extracted/train/Anomaly/Arrest003_x264.mp4\n",
            "/drive/MyDrive/ucf_extracted/train/Anomaly/RoadAccidents002_x264.mp4\n",
            "/drive/MyDrive/ucf_extracted/train/Anomaly/RoadAccidents092_x264.mp4\n",
            "/drive/MyDrive/ucf_extracted/train/Anomaly/Abuse018_x264.mp4\n",
            "/drive/MyDrive/ucf_extracted/train/Anomaly/RoadAccidents050_x264.mp4\n",
            "/drive/MyDrive/ucf_extracted/train/Anomaly/Fighting020_x264.mp4\n",
            "/drive/MyDrive/ucf_extracted/train/Anomaly/RoadAccidents040_x264.mp4\n",
            "/drive/MyDrive/ucf_extracted/train/Anomaly/Burglary037_x264.mp4\n",
            "/drive/MyDrive/ucf_extracted/train/Anomaly/Assault042_x264.mp4\n",
            "/drive/MyDrive/ucf_extracted/train/Anomaly/Burglary044_x264.mp4\n",
            "/drive/MyDrive/ucf_extracted/train/Anomaly/Explosion008_x264.mp4\n",
            "/drive/MyDrive/ucf_extracted/train/Anomaly/Burglary025_x264.mp4\n",
            "/drive/MyDrive/ucf_extracted/train/Anomaly/Burglary058_x264.mp4\n",
            "/drive/MyDrive/ucf_extracted/train/Anomaly/Arrest047_x264.mp4\n",
            "/drive/MyDrive/ucf_extracted/train/Anomaly/Arrest018_x264.mp4\n",
            "/drive/MyDrive/ucf_extracted/train/Anomaly/RoadAccidents007_x264.mp4\n",
            "/drive/MyDrive/ucf_extracted/train/Anomaly/Arson032_x264.mp4\n",
            "/drive/MyDrive/ucf_extracted/train/Anomaly/Arrest043_x264.mp4\n",
            "/drive/MyDrive/ucf_extracted/train/Anomaly/Abuse048_x264.mp4\n",
            "/drive/MyDrive/ucf_extracted/train/Anomaly/Arrest033_x264.mp4\n",
            "/drive/MyDrive/ucf_extracted/train/Anomaly/RoadAccidents091_x264.mp4\n",
            "/drive/MyDrive/ucf_extracted/train/Anomaly/RoadAccidents063_x264.mp4\n",
            "/drive/MyDrive/ucf_extracted/train/Anomaly/Burglary063_x264.mp4\n",
            "/drive/MyDrive/ucf_extracted/train/Anomaly/RoadAccidents051_x264.mp4\n",
            "/drive/MyDrive/ucf_extracted/train/Anomaly/RoadAccidents025_x264.mp4\n",
            "/drive/MyDrive/ucf_extracted/train/Anomaly/RoadAccidents021_x264.mp4\n",
            "/drive/MyDrive/ucf_extracted/train/Anomaly/RoadAccidents013_x264.mp4\n",
            "/drive/MyDrive/ucf_extracted/train/Anomaly/RoadAccidents001_x264.mp4\n",
            "/drive/MyDrive/ucf_extracted/train/Anomaly/Assault001_x264.mp4\n",
            "/drive/MyDrive/ucf_extracted/train/Anomaly/Arrest007_x264.mp4\n",
            "/drive/MyDrive/ucf_extracted/train/Anomaly/Burglary053_x264.mp4\n",
            "/drive/MyDrive/ucf_extracted/train/Anomaly/Burglary092_x264.mp4\n",
            "/drive/MyDrive/ucf_extracted/train/Anomaly/RoadAccidents076_x264.mp4\n",
            "/drive/MyDrive/ucf_extracted/train/Anomaly/Explosion036_x264.mp4\n",
            "/drive/MyDrive/ucf_extracted/train/Anomaly/Fighting022_x264.mp4\n",
            "/drive/MyDrive/ucf_extracted/train/Anomaly/RoadAccidents029_x264.mp4\n",
            "/drive/MyDrive/ucf_extracted/train/Anomaly/RoadAccidents041_x264.mp4\n",
            "/drive/MyDrive/ucf_extracted/train/Anomaly/RoadAccidents009_x264.mp4\n",
            "/drive/MyDrive/ucf_extracted/train/Anomaly/Burglary086_x264.mp4\n",
            "/drive/MyDrive/ucf_extracted/train/Anomaly/Assault030_x264.mp4\n",
            "/drive/MyDrive/ucf_extracted/train/Anomaly/Arson001_x264.mp4\n",
            "/drive/MyDrive/ucf_extracted/train/Anomaly/Arrest001_x264.mp4\n",
            "/drive/MyDrive/ucf_extracted/train/Anomaly/Assault049_x264.mp4\n",
            "/drive/MyDrive/ucf_extracted/train/Anomaly/Arson050_x264.mp4\n",
            "/drive/MyDrive/ucf_extracted/train/Anomaly/RoadAccidents094_x264.mp4\n",
            "/drive/MyDrive/ucf_extracted/train/Anomaly/Arrest021_x264.mp4\n",
            "/drive/MyDrive/ucf_extracted/train/Anomaly/Arrest023_x264.mp4\n",
            "/drive/MyDrive/ucf_extracted/train/Anomaly/Fighting008_x264.mp4\n",
            "/drive/MyDrive/ucf_extracted/train/Anomaly/RoadAccidents003_x264.mp4\n",
            "/drive/MyDrive/ucf_extracted/train/Anomaly/Burglary055_x264.mp4\n",
            "/drive/MyDrive/ucf_extracted/train/Anomaly/Arrest022_x264.mp4\n",
            "/drive/MyDrive/ucf_extracted/train/Anomaly/Abuse038_x264.mp4\n",
            "/drive/MyDrive/ucf_extracted/train/Anomaly/Fighting023_x264.mp4\n",
            "/drive/MyDrive/ucf_extracted/train/Anomaly/Fighting044_x264.mp4\n",
            "/drive/MyDrive/ucf_extracted/train/Anomaly/Burglary024_x264.mp4\n",
            "/drive/MyDrive/ucf_extracted/train/Anomaly/Burglary018_x264.mp4\n",
            "/drive/MyDrive/ucf_extracted/train/Anomaly/Burglary038_x264.mp4\n",
            "/drive/MyDrive/ucf_extracted/train/Anomaly/Abuse007_x264.mp4\n",
            "/drive/MyDrive/ucf_extracted/train/Anomaly/Abuse037_x264.mp4\n",
            "/drive/MyDrive/ucf_extracted/train/Anomaly/Burglary076_x264.mp4\n",
            "/drive/MyDrive/ucf_extracted/train/Anomaly/Abuse020_x264.mp4\n",
            "/drive/MyDrive/ucf_extracted/train/Anomaly/Burglary091_x264.mp4\n",
            "/drive/MyDrive/ucf_extracted/train/Anomaly/Abuse047_x264.mp4\n",
            "/drive/MyDrive/ucf_extracted/train/Anomaly/RoadAccidents062_x264.mp4\n",
            "/drive/MyDrive/ucf_extracted/train/Anomaly/Arson020_x264.mp4\n",
            "/drive/MyDrive/ucf_extracted/train/Anomaly/Abuse044_x264.mp4\n",
            "/drive/MyDrive/ucf_extracted/train/Anomaly/Explosion019_x264.mp4\n",
            "/drive/MyDrive/ucf_extracted/train/Anomaly/RoadAccidents072_x264.mp4\n",
            "/drive/MyDrive/ucf_extracted/train/Anomaly/Assault025_x264.mp4\n",
            "/drive/MyDrive/ucf_extracted/train/Anomaly/Burglary070_x264.mp4\n",
            "/drive/MyDrive/ucf_extracted/train/Anomaly/Fighting046_x264.mp4\n",
            "/drive/MyDrive/ucf_extracted/train/Anomaly/Abuse028_x264.mp4\n",
            "/drive/MyDrive/ucf_extracted/train/Anomaly/Burglary048_x264.mp4\n",
            "/drive/MyDrive/ucf_extracted/train/Anomaly/Explosion052_x264.mp4\n",
            "/drive/MyDrive/ucf_extracted/train/Anomaly/Arson034_x264.mp4\n",
            "/drive/MyDrive/ucf_extracted/train/Anomaly/Arson015_x264.mp4\n",
            "/drive/MyDrive/ucf_extracted/train/Anomaly/Arrest005_x264.mp4\n",
            "/drive/MyDrive/ucf_extracted/train/Anomaly/Explosion041_x264.mp4\n",
            "/drive/MyDrive/ucf_extracted/train/Anomaly/Explosion040_x264.mp4\n",
            "/drive/MyDrive/ucf_extracted/train/Anomaly/Arrest036_x264.mp4\n",
            "/drive/MyDrive/ucf_extracted/train/Anomaly/Explosion015_x264.mp4\n",
            "/drive/MyDrive/ucf_extracted/train/Anomaly/Burglary006_x264.mp4\n",
            "/drive/MyDrive/ucf_extracted/train/Anomaly/Burglary030_x264.mp4\n",
            "/drive/MyDrive/ucf_extracted/train/Anomaly/RoadAccidents017_x264.mp4\n",
            "/drive/MyDrive/ucf_extracted/train/Anomaly/Burglary084_x264.mp4\n",
            "/drive/MyDrive/ucf_extracted/train/Anomaly/Assault026_x264.mp4\n",
            "/drive/MyDrive/ucf_extracted/train/Anomaly/Explosion025_x264.mp4\n",
            "/drive/MyDrive/ucf_extracted/train/Anomaly/RoadAccidents026_x264.mp4\n",
            "/drive/MyDrive/ucf_extracted/train/Anomaly/Arrest051_x264.mp4\n",
            "/drive/MyDrive/ucf_extracted/train/Anomaly/RoadAccidents070_x264.mp4\n",
            "/drive/MyDrive/ucf_extracted/train/Anomaly/Arson007_x264.mp4\n",
            "/drive/MyDrive/ucf_extracted/train/Anomaly/Burglary059_x264.mp4\n",
            "/drive/MyDrive/ucf_extracted/train/Anomaly/RoadAccidents034_x264.mp4\n",
            "/drive/MyDrive/ucf_extracted/train/Anomaly/Burglary089_x264.mp4\n",
            "/drive/MyDrive/ucf_extracted/train/Anomaly/Assault027_x264.mp4\n",
            "/drive/MyDrive/ucf_extracted/train/Anomaly/Burglary012_x264.mp4\n",
            "/drive/MyDrive/ucf_extracted/train/Anomaly/Assault048_x264.mp4\n",
            "/drive/MyDrive/ucf_extracted/train/Anomaly/Burglary004_x264.mp4\n",
            "/drive/MyDrive/ucf_extracted/train/Anomaly/Fighting038_x264.mp4\n",
            "/drive/MyDrive/ucf_extracted/train/Anomaly/Fighting003_x264.mp4\n",
            "/drive/MyDrive/ucf_extracted/train/Anomaly/Fighting007_x264.mp4\n",
            "/drive/MyDrive/ucf_extracted/train/Anomaly/Arson027_x264.mp4\n",
            "/drive/MyDrive/ucf_extracted/train/Anomaly/Burglary052_x264.mp4\n",
            "/drive/MyDrive/ucf_extracted/train/Anomaly/Assault019_x264.mp4\n",
            "/drive/MyDrive/ucf_extracted/train/Anomaly/Arrest008_x264.mp4\n",
            "/drive/MyDrive/ucf_extracted/train/Anomaly/Arson016_x264.mp4\n",
            "/drive/MyDrive/ucf_extracted/train/Anomaly/Assault035_x264.mp4\n",
            "/drive/MyDrive/ucf_extracted/train/Anomaly/Explosion012_x264.mp4\n",
            "/drive/MyDrive/ucf_extracted/train/Anomaly/Explosion003_x264.mp4\n",
            "/drive/MyDrive/ucf_extracted/train/Anomaly/Burglary061_x264.mp4\n",
            "/drive/MyDrive/ucf_extracted/train/Anomaly/RoadAccidents093_x264.mp4\n",
            "/drive/MyDrive/ucf_extracted/train/Anomaly/RoadAccidents036_x264.mp4\n",
            "/drive/MyDrive/ucf_extracted/train/Anomaly/Arson025_x264.mp4\n",
            "/drive/MyDrive/ucf_extracted/train/Anomaly/Arrest046_x264.mp4\n",
            "/drive/MyDrive/ucf_extracted/train/Anomaly/Burglary041_x264.mp4\n",
            "/drive/MyDrive/ucf_extracted/train/Anomaly/Abuse014_x264.mp4\n",
            "/drive/MyDrive/ucf_extracted/train/Anomaly/RoadAccidents049_x264.mp4\n",
            "/drive/MyDrive/ucf_extracted/train/Anomaly/Burglary035_x264.mp4\n",
            "/drive/MyDrive/ucf_extracted/train/Anomaly/Arrest038_x264.mp4\n",
            "/drive/MyDrive/ucf_extracted/train/Anomaly/Abuse032_x264.mp4\n",
            "/drive/MyDrive/ucf_extracted/train/Anomaly/Explosion021_x264.mp4\n",
            "/drive/MyDrive/ucf_extracted/train/Anomaly/Burglary062_x264.mp4\n",
            "/drive/MyDrive/ucf_extracted/train/Anomaly/Arson046_x264.mp4\n",
            "/drive/MyDrive/ucf_extracted/train/Anomaly/Explosion032_x264.mp4\n",
            "/drive/MyDrive/ucf_extracted/train/Anomaly/Burglary080_x264.mp4\n",
            "/drive/MyDrive/ucf_extracted/train/Anomaly/Arson052_x264.mp4\n",
            "/drive/MyDrive/ucf_extracted/train/Anomaly/RoadAccidents053_x264.mp4\n",
            "/drive/MyDrive/ucf_extracted/train/Anomaly/Fighting014_x264.mp4\n",
            "/drive/MyDrive/ucf_extracted/train/Anomaly/Arrest024_x264.mp4\n",
            "/drive/MyDrive/ucf_extracted/train/Anomaly/RoadAccidents047_x264.mp4\n",
            "/drive/MyDrive/ucf_extracted/train/Anomaly/Burglary028_x264.mp4\n",
            "/drive/MyDrive/ucf_extracted/train/Anomaly/Arrest025_x264.mp4\n",
            "/drive/MyDrive/ucf_extracted/train/Anomaly/Burglary073_x264.mp4\n",
            "/drive/MyDrive/ucf_extracted/train/Anomaly/Fighting002_x264.mp4\n",
            "/drive/MyDrive/ucf_extracted/train/Anomaly/Burglary026_x264.mp4\n",
            "/drive/MyDrive/ucf_extracted/train/Anomaly/Burglary010_x264.mp4\n",
            "/drive/MyDrive/ucf_extracted/train/Anomaly/RoadAccidents014_x264.mp4\n",
            "/drive/MyDrive/ucf_extracted/train/Anomaly/Assault016_x264.mp4\n",
            "/drive/MyDrive/ucf_extracted/train/Anomaly/Assault028_x264.mp4\n",
            "/drive/MyDrive/ucf_extracted/train/Anomaly/Burglary069_x264.mp4\n",
            "/drive/MyDrive/ucf_extracted/train/Anomaly/RoadAccidents032_x264.mp4\n",
            "/drive/MyDrive/ucf_extracted/train/Anomaly/Assault038_x264.mp4\n",
            "/drive/MyDrive/ucf_extracted/train/Anomaly/RoadAccidents095_x264.mp4\n",
            "/drive/MyDrive/ucf_extracted/train/Anomaly/Arrest017_x264.mp4\n",
            "/drive/MyDrive/ucf_extracted/train/Anomaly/Arrest032_x264.mp4\n",
            "/drive/MyDrive/ucf_extracted/train/Anomaly/Explosion039_x264.mp4\n",
            "/drive/MyDrive/ucf_extracted/train/Anomaly/Arrest035_x264.mp4\n",
            "/drive/MyDrive/ucf_extracted/train/Anomaly/Burglary060_x264.mp4\n",
            "/drive/MyDrive/ucf_extracted/train/Anomaly/Burglary023_x264.mp4\n",
            "/drive/MyDrive/ucf_extracted/train/Anomaly/Assault041_x264.mp4\n",
            "/drive/MyDrive/ucf_extracted/train/Anomaly/Fighting006_x264.mp4\n",
            "/drive/MyDrive/ucf_extracted/train/Anomaly/Fighting030_x264.mp4\n",
            "/drive/MyDrive/ucf_extracted/train/Anomaly/Assault046_x264.mp4\n",
            "/drive/MyDrive/ucf_extracted/train/Anomaly/RoadAccidents080_x264.mp4\n",
            "/drive/MyDrive/ucf_extracted/train/Anomaly/Abuse013_x264.mp4\n",
            "/drive/MyDrive/ucf_extracted/train/Anomaly/Fighting015_x264.mp4\n",
            "/drive/MyDrive/ucf_extracted/train/Anomaly/RoadAccidents008_x264.mp4\n",
            "/drive/MyDrive/ucf_extracted/train/Anomaly/Assault024_x264.mp4\n",
            "/drive/MyDrive/ucf_extracted/train/Anomaly/Burglary043_x264.mp4\n",
            "/drive/MyDrive/ucf_extracted/train/Anomaly/Abuse043_x264.mp4\n",
            "/drive/MyDrive/ucf_extracted/train/Anomaly/Burglary011_x264.mp4\n",
            "/drive/MyDrive/ucf_extracted/train/Anomaly/Assault018_x264.mp4\n",
            "/drive/MyDrive/ucf_extracted/train/Anomaly/RoadAccidents052_x264.mp4\n",
            "/drive/MyDrive/ucf_extracted/train/Anomaly/Arson014_x264.mp4\n",
            "/drive/MyDrive/ucf_extracted/train/Anomaly/RoadAccidents035_x264.mp4\n",
            "/drive/MyDrive/ucf_extracted/train/Anomaly/RoadAccidents082_x264.mp4\n",
            "/drive/MyDrive/ucf_extracted/train/Anomaly/Arrest030_x264.mp4\n",
            "/drive/MyDrive/ucf_extracted/train/Anomaly/Burglary013_x264.mp4\n",
            "/drive/MyDrive/ucf_extracted/train/Anomaly/RoadAccidents088_x264.mp4\n",
            "/drive/MyDrive/ucf_extracted/train/Anomaly/Fighting004_x264.mp4\n",
            "/drive/MyDrive/ucf_extracted/train/Anomaly/Arrest019_x264.mp4\n",
            "/drive/MyDrive/ucf_extracted/train/Anomaly/RoadAccidents097_x264.mp4\n",
            "/drive/MyDrive/ucf_extracted/train/Anomaly/Burglary054_x264.mp4\n",
            "/drive/MyDrive/ucf_extracted/train/Anomaly/Burglary093_x264.mp4\n",
            "/drive/MyDrive/ucf_extracted/train/Anomaly/Abuse025_x264.mp4\n",
            "/drive/MyDrive/ucf_extracted/train/Anomaly/RoadAccidents048_x264.mp4\n",
            "/drive/MyDrive/ucf_extracted/train/Anomaly/Fighting021_x264.mp4\n",
            "/drive/MyDrive/ucf_extracted/train/Anomaly/Abuse009_x264.mp4\n",
            "/drive/MyDrive/ucf_extracted/train/Anomaly/Fighting016_x264.mp4\n",
            "/drive/MyDrive/ucf_extracted/train/Anomaly/Arson031_x264.mp4\n",
            "/drive/MyDrive/ucf_extracted/train/Anomaly/Arrest049_x264.mp4\n",
            "/drive/MyDrive/ucf_extracted/train/Anomaly/RoadAccidents098_x264.mp4\n",
            "/drive/MyDrive/ucf_extracted/train/Anomaly/Fighting012_x264.mp4\n",
            "/drive/MyDrive/ucf_extracted/train/Anomaly/Burglary027_x264.mp4\n",
            "/drive/MyDrive/ucf_extracted/train/Anomaly/Arson047_x264.mp4\n",
            "/drive/MyDrive/ucf_extracted/train/Anomaly/RoadAccidents100_x264.mp4\n",
            "/drive/MyDrive/ucf_extracted/train/Anomaly/Arrest050_x264.mp4\n",
            "/drive/MyDrive/ucf_extracted/train/Anomaly/Assault039_x264.mp4\n",
            "/drive/MyDrive/ucf_extracted/train/Anomaly/Burglary003_x264.mp4\n",
            "/drive/MyDrive/ucf_extracted/train/Anomaly/Arson029_x264.mp4\n",
            "/drive/MyDrive/ucf_extracted/train/Anomaly/Explosion050_x264.mp4\n",
            "/drive/MyDrive/ucf_extracted/train/Anomaly/Explosion002_x264.mp4\n",
            "/drive/MyDrive/ucf_extracted/train/Anomaly/Fighting005_x264.mp4\n",
            "/drive/MyDrive/ucf_extracted/train/Anomaly/Burglary040_x264.mp4\n",
            "/drive/MyDrive/ucf_extracted/train/Anomaly/Arson053_x264.mp4\n",
            "/drive/MyDrive/ucf_extracted/train/Anomaly/Burglary047_x264.mp4\n",
            "/drive/MyDrive/ucf_extracted/train/Anomaly/Arrest009_x264.mp4\n",
            "/drive/MyDrive/ucf_extracted/train/Anomaly/Explosion035_x264.mp4\n",
            "/drive/MyDrive/ucf_extracted/train/Anomaly/Assault015_x264.mp4\n",
            "/drive/MyDrive/ucf_extracted/train/Anomaly/Assault040_x264.mp4\n",
            "/drive/MyDrive/ucf_extracted/train/Anomaly/Assault006_x264.mp4\n",
            "/drive/MyDrive/ucf_extracted/train/Anomaly/Explosion024_x264.mp4\n",
            "/drive/MyDrive/ucf_extracted/train/Anomaly/RoadAccidents037_x264.mp4\n",
            "/drive/MyDrive/ucf_extracted/train/Anomaly/Arson003_x264.mp4\n",
            "/drive/MyDrive/ucf_extracted/train/Anomaly/Fighting010_x264.mp4\n",
            "/drive/MyDrive/ucf_extracted/train/Anomaly/Explosion010_x264.mp4\n",
            "/drive/MyDrive/ucf_extracted/train/Anomaly/Fighting033_x264.mp4\n",
            "/drive/MyDrive/ucf_extracted/train/Anomaly/Arrest039_x264.mp4\n",
            "/drive/MyDrive/ucf_extracted/train/Anomaly/Abuse006_x264.mp4\n",
            "/drive/MyDrive/ucf_extracted/train/Anomaly/Arson028_x264.mp4\n",
            "/drive/MyDrive/ucf_extracted/train/Anomaly/Burglary099_x264.mp4\n",
            "/drive/MyDrive/ucf_extracted/train/Anomaly/Assault051_x264.mp4\n",
            "/drive/MyDrive/ucf_extracted/train/Anomaly/Arson039_x264.mp4\n",
            "/drive/MyDrive/ucf_extracted/train/Anomaly/Abuse027_x264.mp4\n",
            "/drive/MyDrive/ucf_extracted/train/Anomaly/Burglary085_x264.mp4\n",
            "/drive/MyDrive/ucf_extracted/train/Anomaly/Arrest020_x264.mp4\n",
            "/drive/MyDrive/ucf_extracted/train/Anomaly/Explosion020_x264.mp4\n",
            "/drive/MyDrive/ucf_extracted/train/Anomaly/Assault037_x264.mp4\n",
            "/drive/MyDrive/ucf_extracted/train/Anomaly/Burglary090_x264.mp4\n",
            "/drive/MyDrive/ucf_extracted/train/Anomaly/Arson051_x264.mp4\n",
            "/drive/MyDrive/ucf_extracted/train/Anomaly/Burglary016_x264.mp4\n",
            "/drive/MyDrive/ucf_extracted/train/Anomaly/RoadAccidents046_x264.mp4\n",
            "/drive/MyDrive/ucf_extracted/train/Anomaly/Arson005_x264.mp4\n",
            "/drive/MyDrive/ucf_extracted/train/Anomaly/Arson041_x264.mp4\n",
            "/drive/MyDrive/ucf_extracted/train/Anomaly/Fighting050_x264.mp4\n",
            "/drive/MyDrive/ucf_extracted/train/Anomaly/Explosion043_x264.mp4\n",
            "/drive/MyDrive/ucf_extracted/train/Anomaly/Assault031_x264.mp4\n",
            "/drive/MyDrive/ucf_extracted/train/Anomaly/Fighting031_x264.mp4\n",
            "/drive/MyDrive/ucf_extracted/train/Anomaly/RoadAccidents073_x264.mp4\n",
            "/drive/MyDrive/ucf_extracted/train/Anomaly/Abuse023_x264.mp4\n",
            "/drive/MyDrive/ucf_extracted/train/Anomaly/Explosion030_x264.mp4\n",
            "/drive/MyDrive/ucf_extracted/train/Anomaly/RoadAccidents065_x264.mp4\n",
            "/drive/MyDrive/ucf_extracted/train/Anomaly/Burglary081_x264.mp4\n",
            "/drive/MyDrive/ucf_extracted/train/Anomaly/Abuse010_x264.mp4\n",
            "/drive/MyDrive/ucf_extracted/train/Anomaly/RoadAccidents054_x264.mp4\n",
            "/drive/MyDrive/ucf_extracted/train/Anomaly/Assault047_x264.mp4\n",
            "/drive/MyDrive/ucf_extracted/train/Anomaly/RoadAccidents019_x264.mp4\n",
            "/drive/MyDrive/ucf_extracted/train/Anomaly/Abuse015_x264.mp4\n",
            "/drive/MyDrive/ucf_extracted/train/Anomaly/Arrest027_x264.mp4\n",
            "/drive/MyDrive/ucf_extracted/train/Anomaly/RoadAccidents004_x264.mp4\n",
            "/drive/MyDrive/ucf_extracted/train/Anomaly/Abuse031_x264.mp4\n",
            "/drive/MyDrive/ucf_extracted/train/Anomaly/Explosion045_x264.mp4\n",
            "/drive/MyDrive/ucf_extracted/train/Anomaly/Arson042_x264.mp4\n",
            "/drive/MyDrive/ucf_extracted/train/Anomaly/RoadAccidents058_x264.mp4\n",
            "/drive/MyDrive/ucf_extracted/train/Anomaly/Assault022_x264.mp4\n",
            "/drive/MyDrive/ucf_extracted/train/Anomaly/RoadAccidents059_x264.mp4\n",
            "/drive/MyDrive/ucf_extracted/train/Anomaly/Fighting045_x264.mp4\n",
            "/drive/MyDrive/ucf_extracted/train/Anomaly/Abuse004_x264.mp4\n",
            "/drive/MyDrive/ucf_extracted/train/Anomaly/Burglary029_x264.mp4\n",
            "/drive/MyDrive/ucf_extracted/train/Anomaly/Arrest031_x264.mp4\n",
            "/drive/MyDrive/ucf_extracted/train/Anomaly/Abuse033_x264.mp4\n",
            "/drive/MyDrive/ucf_extracted/train/Anomaly/Explosion017_x264.mp4\n",
            "/drive/MyDrive/ucf_extracted/train/Anomaly/Fighting037_x264.mp4\n",
            "/drive/MyDrive/ucf_extracted/train/Anomaly/Arson021_x264.mp4\n",
            "/drive/MyDrive/ucf_extracted/train/Anomaly/Assault044_x264.mp4\n",
            "/drive/MyDrive/ucf_extracted/train/Anomaly/RoadAccidents057_x264.mp4\n",
            "/drive/MyDrive/ucf_extracted/train/Anomaly/Abuse050_x264.mp4\n",
            "/drive/MyDrive/ucf_extracted/train/Anomaly/Assault023_x264.mp4\n",
            "/drive/MyDrive/ucf_extracted/train/Anomaly/Burglary078_x264.mp4\n",
            "/drive/MyDrive/ucf_extracted/train/Anomaly/Arson010_x264.mp4\n",
            "/drive/MyDrive/ucf_extracted/train/Anomaly/Assault034_x264.mp4\n",
            "/drive/MyDrive/ucf_extracted/train/Anomaly/Explosion028_x264.mp4\n",
            "/drive/MyDrive/ucf_extracted/train/Anomaly/Fighting032_x264.mp4\n",
            "/drive/MyDrive/ucf_extracted/train/Anomaly/Explosion007_x264.mp4\n",
            "/drive/MyDrive/ucf_extracted/train/Anomaly/RoadAccidents028_x264.mp4\n",
            "/drive/MyDrive/ucf_extracted/train/Anomaly/Explosion038_x264.mp4\n",
            "/drive/MyDrive/ucf_extracted/train/Anomaly/RoadAccidents012_x264.mp4\n",
            "/drive/MyDrive/ucf_extracted/train/Anomaly/Arson023_x264.mp4\n",
            "/drive/MyDrive/ucf_extracted/train/Anomaly/Arson048_x264.mp4\n",
            "/drive/MyDrive/ucf_extracted/train/Anomaly/Explosion051_x264.mp4\n",
            "/drive/MyDrive/ucf_extracted/train/Anomaly/Burglary050_x264.mp4\n",
            "/drive/MyDrive/ucf_extracted/train/Anomaly/RoadAccidents020_x264.mp4\n",
            "/drive/MyDrive/ucf_extracted/train/Anomaly/Assault020_x264.mp4\n",
            "/drive/MyDrive/ucf_extracted/train/Anomaly/Burglary031_x264.mp4\n",
            "/drive/MyDrive/ucf_extracted/train/Anomaly/Burglary056_x264.mp4\n",
            "/drive/MyDrive/ucf_extracted/train/Anomaly/Burglary051_x264.mp4\n",
            "/drive/MyDrive/ucf_extracted/train/Anomaly/Burglary068_x264.mp4\n",
            "/drive/MyDrive/ucf_extracted/train/Anomaly/Arson002_x264.mp4\n",
            "/drive/MyDrive/ucf_extracted/train/Anomaly/RoadAccidents011_x264.mp4\n",
            "/drive/MyDrive/ucf_extracted/train/Anomaly/Abuse019_x264.mp4\n",
            "/drive/MyDrive/ucf_extracted/train/Anomaly/Arson044_x264.mp4\n",
            "/drive/MyDrive/ucf_extracted/train/Anomaly/RoadAccidents030_x264.mp4\n",
            "/drive/MyDrive/ucf_extracted/train/Anomaly/Arrest012_x264.mp4\n",
            "/drive/MyDrive/ucf_extracted/train/Anomaly/Explosion047_x264.mp4\n",
            "/drive/MyDrive/ucf_extracted/train/Anomaly/Fighting024_x264.mp4\n",
            "/drive/MyDrive/ucf_extracted/train/Anomaly/Explosion013_x264.mp4\n",
            "/drive/MyDrive/ucf_extracted/train/Anomaly/Abuse039_x264.mp4\n",
            "/drive/MyDrive/ucf_extracted/train/Anomaly/Explosion029_x264.mp4\n",
            "/drive/MyDrive/ucf_extracted/train/Anomaly/Explosion037_x264.mp4\n",
            "/drive/MyDrive/ucf_extracted/train/Anomaly/Burglary087_x264.mp4\n",
            "/drive/MyDrive/ucf_extracted/train/Anomaly/RoadAccidents006_x264.mp4\n",
            "/drive/MyDrive/ucf_extracted/train/Anomaly/Fighting035_x264.mp4\n",
            "/drive/MyDrive/ucf_extracted/train/Anomaly/Assault003_x264.mp4\n",
            "/drive/MyDrive/ucf_extracted/train/Anomaly/Burglary022_x264.mp4\n",
            "/drive/MyDrive/ucf_extracted/train/Anomaly/Burglary008_x264.mp4\n",
            "/drive/MyDrive/ucf_extracted/train/Anomaly/Fighting017_x264.mp4\n",
            "/drive/MyDrive/ucf_extracted/train/Anomaly/Burglary036_x264.mp4\n",
            "/drive/MyDrive/ucf_extracted/train/Anomaly/Arson018_x264.mp4\n",
            "/drive/MyDrive/ucf_extracted/train/Anomaly/Arson017_x264.mp4\n",
            "/drive/MyDrive/ucf_extracted/train/Anomaly/Explosion004_x264.mp4\n",
            "/drive/MyDrive/ucf_extracted/train/Anomaly/Abuse036_x264.mp4\n",
            "/drive/MyDrive/ucf_extracted/train/Anomaly/Assault010_x264.mp4\n",
            "/drive/MyDrive/ucf_extracted/train/Anomaly/Arrest037_x264.mp4\n",
            "/drive/MyDrive/ucf_extracted/train/Anomaly/Fighting018_x264.mp4\n",
            "/drive/MyDrive/ucf_extracted/train/Anomaly/Arrest014_x264.mp4\n",
            "/drive/MyDrive/ucf_extracted/train/Anomaly/Fighting039_x264.mp4\n",
            "/drive/MyDrive/ucf_extracted/train/Anomaly/Arson045_x264.mp4\n",
            "/drive/MyDrive/ucf_extracted/train/Anomaly/RoadAccidents061_x264.mp4\n",
            "/drive/MyDrive/ucf_extracted/train/Anomaly/Fighting011_x264.mp4\n",
            "/drive/MyDrive/ucf_extracted/train/Anomaly/Assault008_x264.mp4\n",
            "/drive/MyDrive/ucf_extracted/train/Anomaly/Burglary019_x264.mp4\n",
            "/drive/MyDrive/ucf_extracted/train/Anomaly/Abuse040_x264.mp4\n",
            "/drive/MyDrive/ucf_extracted/train/Anomaly/Burglary034_x264.mp4\n",
            "/drive/MyDrive/ucf_extracted/train/Anomaly/Burglary014_x264.mp4\n",
            "/drive/MyDrive/ucf_extracted/train/Anomaly/Arson009_x264.mp4\n",
            "/drive/MyDrive/ucf_extracted/train/Anomaly/Abuse035_x264.mp4\n",
            "/drive/MyDrive/ucf_extracted/train/Anomaly/Abuse005_x264.mp4\n",
            "/drive/MyDrive/ucf_extracted/train/Anomaly/Fighting049_x264.mp4\n",
            "/drive/MyDrive/ucf_extracted/train/Anomaly/Explosion048_x264.mp4\n",
            "/drive/MyDrive/ucf_extracted/train/Anomaly/Explosion011_x264.mp4\n",
            "/drive/MyDrive/ucf_extracted/train/Anomaly/Burglary065_x264.mp4\n",
            "/drive/MyDrive/ucf_extracted/train/Anomaly/Burglary072_x264.mp4\n",
            "/drive/MyDrive/ucf_extracted/train/Anomaly/Abuse003_x264.mp4\n",
            "/drive/MyDrive/ucf_extracted/train/Anomaly/RoadAccidents096_x264.mp4\n",
            "/drive/MyDrive/ucf_extracted/train/Anomaly/RoadAccidents005_x264.mp4\n",
            "/drive/MyDrive/ucf_extracted/train/Anomaly/RoadAccidents085_x264.mp4\n",
            "/drive/MyDrive/ucf_extracted/train/Anomaly/Abuse034_x264.mp4\n",
            "/drive/MyDrive/ucf_extracted/train/Anomaly/RoadAccidents064_x264.mp4\n",
            "/drive/MyDrive/ucf_extracted/train/Anomaly/Burglary042_x264.mp4\n",
            "/drive/MyDrive/ucf_extracted/train/Anomaly/RoadAccidents043_x264.mp4\n",
            "/drive/MyDrive/ucf_extracted/train/Anomaly/Arson012_x264.mp4\n",
            "/drive/MyDrive/ucf_extracted/train/Anomaly/RoadAccidents066_x264.mp4\n",
            "/drive/MyDrive/ucf_extracted/train/Anomaly/RoadAccidents074_x264.mp4\n",
            "/drive/MyDrive/ucf_extracted/train/Anomaly/Explosion001_x264.mp4\n",
            "/drive/MyDrive/ucf_extracted/train/Anomaly/RoadAccidents018_x264.mp4\n",
            "/drive/MyDrive/ucf_extracted/train/Anomaly/Fighting029_x264.mp4\n",
            "/drive/MyDrive/ucf_extracted/train/Anomaly/Burglary045_x264.mp4\n",
            "/drive/MyDrive/ucf_extracted/train/Anomaly/Arrest041_x264.mp4\n",
            "/drive/MyDrive/ucf_extracted/train/Anomaly/Assault029_x264.mp4\n",
            "/drive/MyDrive/ucf_extracted/train/Anomaly/Abuse012_x264.mp4\n",
            "/drive/MyDrive/ucf_extracted/train/Anomaly/RoadAccidents027_x264.mp4\n",
            "/drive/MyDrive/ucf_extracted/train/Anomaly/Burglary100_x264.mp4\n",
            "/drive/MyDrive/ucf_extracted/train/Anomaly/Burglary066_x264.mp4\n",
            "/drive/MyDrive/ucf_extracted/train/Anomaly/RoadAccidents033_x264.mp4\n",
            "/drive/MyDrive/ucf_extracted/train/Anomaly/Burglary097_x264.mp4\n",
            "/drive/MyDrive/ucf_extracted/train/Anomaly/Arrest026_x264.mp4\n",
            "/drive/MyDrive/ucf_extracted/train/Anomaly/Burglary079_x264.mp4\n",
            "/drive/MyDrive/ucf_extracted/train/Anomaly/Assault033_x264.mp4\n",
            "/drive/MyDrive/ucf_extracted/train/Anomaly/RoadAccidents023_x264.mp4\n",
            "/drive/MyDrive/ucf_extracted/train/Anomaly/Assault032_x264.mp4\n",
            "/drive/MyDrive/ucf_extracted/train/Anomaly/Explosion023_x264.mp4\n",
            "/drive/MyDrive/ucf_extracted/train/Anomaly/Fighting028_x264.mp4\n",
            "/drive/MyDrive/ucf_extracted/train/Anomaly/Abuse041_x264.mp4\n",
            "/drive/MyDrive/ucf_extracted/train/Anomaly/RoadAccidents089_x264.mp4\n",
            "/drive/MyDrive/ucf_extracted/train/Anomaly/Fighting019_x264.mp4\n",
            "/drive/MyDrive/ucf_extracted/train/Anomaly/Fighting043_x264.mp4\n",
            "/drive/MyDrive/ucf_extracted/train/Anomaly/Explosion022_x264.mp4\n",
            "/drive/MyDrive/ucf_extracted/train/Anomaly/Explosion006_x264.mp4\n",
            "/drive/MyDrive/ucf_extracted/train/Anomaly/Arrest013_x264.mp4\n",
            "/drive/MyDrive/ucf_extracted/train/Anomaly/Arson019_x264.mp4\n",
            "/drive/MyDrive/ucf_extracted/train/Anomaly/Arrest040_x264.mp4\n",
            "/drive/MyDrive/ucf_extracted/train/Anomaly/Arrest004_x264.mp4\n",
            "/drive/MyDrive/ucf_extracted/train/Anomaly/Burglary039_x264.mp4\n",
            "/drive/MyDrive/ucf_extracted/train/Anomaly/RoadAccidents068_x264.mp4\n",
            "/drive/MyDrive/ucf_extracted/train/Anomaly/Explosion005_x264.mp4\n",
            "/drive/MyDrive/ucf_extracted/train/Anomaly/Arson013_x264.mp4\n",
            "/drive/MyDrive/ucf_extracted/train/Anomaly/Arson040_x264.mp4\n",
            "/drive/MyDrive/ucf_extracted/train/Anomaly/Assault052_x264.mp4\n",
            "/drive/MyDrive/ucf_extracted/train/Anomaly/Assault007_x264.mp4\n",
            "/drive/MyDrive/ucf_extracted/train/Anomaly/Burglary095_x264.mp4\n",
            "/drive/MyDrive/ucf_extracted/train/Anomaly/Explosion044_x264.mp4\n",
            "/drive/MyDrive/ucf_extracted/train/Anomaly/RoadAccidents031_x264.mp4\n",
            "/drive/MyDrive/ucf_extracted/train/Anomaly/RoadAccidents060_x264.mp4\n",
            "/drive/MyDrive/ucf_extracted/train/Normal\n",
            "/drive/MyDrive/ucf_extracted/train/Normal/Normal_Videos427_x264.mp4\n",
            "/drive/MyDrive/ucf_extracted/train/Normal/Normal_Videos534_x264.mp4\n",
            "/drive/MyDrive/ucf_extracted/train/Normal/Normal_Videos035_x264.mp4\n",
            "/drive/MyDrive/ucf_extracted/train/Normal/Normal_Videos085_x264.mp4\n",
            "/drive/MyDrive/ucf_extracted/train/Normal/Normal_Videos442_x264.mp4\n",
            "/drive/MyDrive/ucf_extracted/train/Normal/Normal_Videos325_x264.mp4\n",
            "/drive/MyDrive/ucf_extracted/train/Normal/Normal_Videos099_x264.mp4\n",
            "/drive/MyDrive/ucf_extracted/train/Normal/Normal_Videos204_x264.mp4\n",
            "/drive/MyDrive/ucf_extracted/train/Normal/Normal_Videos198_x264.mp4\n",
            "/drive/MyDrive/ucf_extracted/train/Normal/Normal_Videos012_x264.mp4\n",
            "/drive/MyDrive/ucf_extracted/train/Normal/Normal_Videos535_x264.mp4\n",
            "/drive/MyDrive/ucf_extracted/train/Normal/Normal_Videos386_x264.mp4\n",
            "/drive/MyDrive/ucf_extracted/train/Normal/Normal_Videos133_x264.mp4\n",
            "/drive/MyDrive/ucf_extracted/train/Normal/Normal_Videos429_x264.mp4\n",
            "/drive/MyDrive/ucf_extracted/train/Normal/Normal_Videos118_x264.mp4\n",
            "/drive/MyDrive/ucf_extracted/train/Normal/Normal_Videos065_x264.mp4\n",
            "/drive/MyDrive/ucf_extracted/train/Normal/Normal_Videos177_x264.mp4\n",
            "/drive/MyDrive/ucf_extracted/train/Normal/Normal_Videos525_x264.mp4\n",
            "/drive/MyDrive/ucf_extracted/train/Normal/Normal_Videos351_x264.mp4\n",
            "/drive/MyDrive/ucf_extracted/train/Normal/Normal_Videos474_x264.mp4\n",
            "/drive/MyDrive/ucf_extracted/train/Normal/Normal_Videos318_x264.mp4\n",
            "/drive/MyDrive/ucf_extracted/train/Normal/Normal_Videos279_x264.mp4\n",
            "/drive/MyDrive/ucf_extracted/train/Normal/Normal_Videos502_x264.mp4\n",
            "/drive/MyDrive/ucf_extracted/train/Normal/Normal_Videos388_x264.mp4\n",
            "/drive/MyDrive/ucf_extracted/train/Normal/Normal_Videos499_x264.mp4\n",
            "/drive/MyDrive/ucf_extracted/train/Normal/Normal_Videos454_x264.mp4\n",
            "/drive/MyDrive/ucf_extracted/train/Normal/Normal_Videos466_x264.mp4\n",
            "/drive/MyDrive/ucf_extracted/train/Normal/Normal_Videos357_x264.mp4\n",
            "/drive/MyDrive/ucf_extracted/train/Normal/Normal_Videos472_x264.mp4\n",
            "/drive/MyDrive/ucf_extracted/train/Normal/Normal_Videos550_x264.mp4\n",
            "/drive/MyDrive/ucf_extracted/train/Normal/Normal_Videos109_x264.mp4\n",
            "/drive/MyDrive/ucf_extracted/train/Normal/Normal_Videos436_x264.mp4\n",
            "/drive/MyDrive/ucf_extracted/train/Normal/Normal_Videos523_x264.mp4\n",
            "/drive/MyDrive/ucf_extracted/train/Normal/Normal_Videos500_x264.mp4\n",
            "/drive/MyDrive/ucf_extracted/train/Normal/Normal_Videos190_x264.mp4\n",
            "/drive/MyDrive/ucf_extracted/train/Normal/Normal_Videos173_x264.mp4\n",
            "/drive/MyDrive/ucf_extracted/train/Normal/Normal_Videos097_x264.mp4\n",
            "/drive/MyDrive/ucf_extracted/train/Normal/Normal_Videos166_x264.mp4\n",
            "/drive/MyDrive/ucf_extracted/train/Normal/Normal_Videos090_x264.mp4\n",
            "/drive/MyDrive/ucf_extracted/train/Normal/Normal_Videos501_x264.mp4\n",
            "/drive/MyDrive/ucf_extracted/train/Normal/Normal_Videos449_x264.mp4\n",
            "/drive/MyDrive/ucf_extracted/train/Normal/Normal_Videos432_x264.mp4\n",
            "/drive/MyDrive/ucf_extracted/train/Normal/Normal_Videos032_x264.mp4\n",
            "/drive/MyDrive/ucf_extracted/train/Normal/Normal_Videos350_x264.mp4\n",
            "/drive/MyDrive/ucf_extracted/train/Normal/Normal_Videos095_x264.mp4\n",
            "/drive/MyDrive/ucf_extracted/train/Normal/Normal_Videos324_x264.mp4\n",
            "/drive/MyDrive/ucf_extracted/train/Normal/Normal_Videos518_x264.mp4\n",
            "/drive/MyDrive/ucf_extracted/train/Normal/Normal_Videos301_x264.mp4\n",
            "/drive/MyDrive/ucf_extracted/train/Normal/Normal_Videos546_x264.mp4\n",
            "/drive/MyDrive/ucf_extracted/train/Normal/Normal_Videos128_x264.mp4\n",
            "/drive/MyDrive/ucf_extracted/train/Normal/Normal_Videos252_x264.mp4\n",
            "/drive/MyDrive/ucf_extracted/train/Normal/Normal_Videos296_x264.mp4\n",
            "/drive/MyDrive/ucf_extracted/train/Normal/Normal_Videos504_x264.mp4\n",
            "/drive/MyDrive/ucf_extracted/train/Normal/Normal_Videos145_x264.mp4\n",
            "/drive/MyDrive/ucf_extracted/train/Normal/Normal_Videos361_x264.mp4\n",
            "/drive/MyDrive/ucf_extracted/train/Normal/Normal_Videos264_x264.mp4\n",
            "/drive/MyDrive/ucf_extracted/train/Normal/Normal_Videos418_x264.mp4\n",
            "/drive/MyDrive/ucf_extracted/train/Normal/Normal_Videos068_x264.mp4\n",
            "/drive/MyDrive/ucf_extracted/train/Normal/Normal_Videos091_x264.mp4\n",
            "/drive/MyDrive/ucf_extracted/train/Normal/Normal_Videos447_x264.mp4\n",
            "/drive/MyDrive/ucf_extracted/train/Normal/Normal_Videos510_x264.mp4\n",
            "/drive/MyDrive/ucf_extracted/train/Normal/Normal_Videos235_x264.mp4\n",
            "/drive/MyDrive/ucf_extracted/train/Normal/Normal_Videos387_x264.mp4\n",
            "/drive/MyDrive/ucf_extracted/train/Normal/Normal_Videos483_x264.mp4\n",
            "/drive/MyDrive/ucf_extracted/train/Normal/Normal_Videos017_x264.mp4\n",
            "/drive/MyDrive/ucf_extracted/train/Normal/Normal_Videos080_x264.mp4\n",
            "/drive/MyDrive/ucf_extracted/train/Normal/Normal_Videos509_x264.mp4\n",
            "/drive/MyDrive/ucf_extracted/train/Normal/Normal_Videos423_x264.mp4\n",
            "/drive/MyDrive/ucf_extracted/train/Normal/Normal_Videos188_x264.mp4\n",
            "/drive/MyDrive/ucf_extracted/train/Normal/Normal_Videos153_x264.mp4\n",
            "/drive/MyDrive/ucf_extracted/train/Normal/Normal_Videos384_x264.mp4\n",
            "/drive/MyDrive/ucf_extracted/train/Normal/Normal_Videos306_x264.mp4\n",
            "/drive/MyDrive/ucf_extracted/train/Normal/Normal_Videos112_x264.mp4\n",
            "/drive/MyDrive/ucf_extracted/train/Normal/Normal_Videos422_x264.mp4\n",
            "/drive/MyDrive/ucf_extracted/train/Normal/Normal_Videos061_x264.mp4\n",
            "/drive/MyDrive/ucf_extracted/train/Normal/Normal_Videos030_x264.mp4\n",
            "/drive/MyDrive/ucf_extracted/train/Normal/Normal_Videos265_x264.mp4\n",
            "/drive/MyDrive/ucf_extracted/train/Normal/Normal_Videos359_x264.mp4\n",
            "/drive/MyDrive/ucf_extracted/train/Normal/Normal_Videos287_x264.mp4\n",
            "/drive/MyDrive/ucf_extracted/train/Normal/Normal_Videos154_x264.mp4\n",
            "/drive/MyDrive/ucf_extracted/train/Normal/Normal_Videos098_x264.mp4\n",
            "/drive/MyDrive/ucf_extracted/train/Normal/Normal_Videos077_x264.mp4\n",
            "/drive/MyDrive/ucf_extracted/train/Normal/Normal_Videos132_x264.mp4\n",
            "/drive/MyDrive/ucf_extracted/train/Normal/Normal_Videos216_x264.mp4\n",
            "/drive/MyDrive/ucf_extracted/train/Normal/Normal_Videos124_x264.mp4\n",
            "/drive/MyDrive/ucf_extracted/train/Normal/Normal_Videos221_x264.mp4\n",
            "/drive/MyDrive/ucf_extracted/train/Normal/Normal_Videos549_x264.mp4\n",
            "/drive/MyDrive/ucf_extracted/train/Normal/Normal_Videos135_x264.mp4\n",
            "/drive/MyDrive/ucf_extracted/train/Normal/Normal_Videos058_x264.mp4\n",
            "/drive/MyDrive/ucf_extracted/train/Normal/Normal_Videos116_x264.mp4\n",
            "/drive/MyDrive/ucf_extracted/train/Normal/Normal_Videos005_x264.mp4\n",
            "/drive/MyDrive/ucf_extracted/train/Normal/Normal_Videos420_x264.mp4\n",
            "/drive/MyDrive/ucf_extracted/train/Normal/Normal_Videos187_x264.mp4\n",
            "/drive/MyDrive/ucf_extracted/train/Normal/Normal_Videos159_x264.mp4\n",
            "/drive/MyDrive/ucf_extracted/train/Normal/Normal_Videos229_x264.mp4\n",
            "/drive/MyDrive/ucf_extracted/train/Normal/Normal_Videos464_x264.mp4\n",
            "/drive/MyDrive/ucf_extracted/train/Normal/Normal_Videos102_x264.mp4\n",
            "/drive/MyDrive/ucf_extracted/train/Normal/Normal_Videos271_x264.mp4\n",
            "/drive/MyDrive/ucf_extracted/train/Normal/Normal_Videos046_x264.mp4\n",
            "/drive/MyDrive/ucf_extracted/train/Normal/Normal_Videos291_x264.mp4\n",
            "/drive/MyDrive/ucf_extracted/train/Normal/Normal_Videos009_x264.mp4\n",
            "/drive/MyDrive/ucf_extracted/train/Normal/Normal_Videos311_x264.mp4\n",
            "/drive/MyDrive/ucf_extracted/train/Normal/Normal_Videos307_x264.mp4\n",
            "/drive/MyDrive/ucf_extracted/train/Normal/Normal_Videos489_x264.mp4\n",
            "/drive/MyDrive/ucf_extracted/train/Normal/Normal_Videos013_x264.mp4\n",
            "/drive/MyDrive/ucf_extracted/train/Normal/Normal_Videos462_x264.mp4\n",
            "/drive/MyDrive/ucf_extracted/train/Normal/Normal_Videos002_x264.mp4\n",
            "/drive/MyDrive/ucf_extracted/train/Normal/Normal_Videos381_x264.mp4\n",
            "/drive/MyDrive/ucf_extracted/train/Normal/Normal_Videos162_x264.mp4\n",
            "/drive/MyDrive/ucf_extracted/train/Normal/Normal_Videos122_x264.mp4\n",
            "/drive/MyDrive/ucf_extracted/train/Normal/Normal_Videos536_x264.mp4\n",
            "/drive/MyDrive/ucf_extracted/train/Normal/Normal_Videos117_x264.mp4\n",
            "/drive/MyDrive/ucf_extracted/train/Normal/Normal_Videos053_x264.mp4\n",
            "/drive/MyDrive/ucf_extracted/train/Normal/Normal_Videos082_x264.mp4\n",
            "/drive/MyDrive/ucf_extracted/train/Normal/Normal_Videos089_x264.mp4\n",
            "/drive/MyDrive/ucf_extracted/train/Normal/Normal_Videos236_x264.mp4\n",
            "/drive/MyDrive/ucf_extracted/train/Normal/Normal_Videos293_x264.mp4\n",
            "/drive/MyDrive/ucf_extracted/train/Normal/Normal_Videos072_x264.mp4\n",
            "/drive/MyDrive/ucf_extracted/train/Normal/Normal_Videos255_x264.mp4\n",
            "/drive/MyDrive/ucf_extracted/train/Normal/Normal_Videos158_x264.mp4\n",
            "/drive/MyDrive/ucf_extracted/train/Normal/Normal_Videos272_x264.mp4\n",
            "/drive/MyDrive/ucf_extracted/train/Normal/Normal_Videos201_x264.mp4\n",
            "/drive/MyDrive/ucf_extracted/train/Normal/Normal_Videos241_x264.mp4\n",
            "/drive/MyDrive/ucf_extracted/train/Normal/Normal_Videos261_x264.mp4\n",
            "/drive/MyDrive/ucf_extracted/train/Normal/Normal_Videos512_x264.mp4\n",
            "/drive/MyDrive/ucf_extracted/train/Normal/Normal_Videos284_x264.mp4\n",
            "/drive/MyDrive/ucf_extracted/train/Normal/Normal_Videos276_x264.mp4\n",
            "/drive/MyDrive/ucf_extracted/train/Normal/Normal_Videos105_x264.mp4\n",
            "/drive/MyDrive/ucf_extracted/train/Normal/Normal_Videos440_x264.mp4\n",
            "/drive/MyDrive/ucf_extracted/train/Normal/Normal_Videos431_x264.mp4\n",
            "/drive/MyDrive/ucf_extracted/train/Normal/Normal_Videos390_x264.mp4\n",
            "/drive/MyDrive/ucf_extracted/train/Normal/Normal_Videos149_x264.mp4\n",
            "/drive/MyDrive/ucf_extracted/train/Normal/Normal_Videos485_x264.mp4\n",
            "/drive/MyDrive/ucf_extracted/train/Normal/Normal_Videos298_x264.mp4\n",
            "/drive/MyDrive/ucf_extracted/train/Normal/Normal_Videos218_x264.mp4\n",
            "/drive/MyDrive/ucf_extracted/train/Normal/Normal_Videos400_x264.mp4\n",
            "/drive/MyDrive/ucf_extracted/train/Normal/Normal_Videos342_x264.mp4\n",
            "/drive/MyDrive/ucf_extracted/train/Normal/Normal_Videos164_x264.mp4\n",
            "/drive/MyDrive/ucf_extracted/train/Normal/Normal_Videos521_x264.mp4\n",
            "/drive/MyDrive/ucf_extracted/train/Normal/Normal_Videos094_x264.mp4\n",
            "/drive/MyDrive/ucf_extracted/train/Normal/Normal_Videos421_x264.mp4\n",
            "/drive/MyDrive/ucf_extracted/train/Normal/Normal_Videos206_x264.mp4\n",
            "/drive/MyDrive/ucf_extracted/train/Normal/Normal_Videos111_x264.mp4\n",
            "/drive/MyDrive/ucf_extracted/train/Normal/Normal_Videos336_x264.mp4\n",
            "/drive/MyDrive/ucf_extracted/train/Normal/Normal_Videos147_x264.mp4\n",
            "/drive/MyDrive/ucf_extracted/train/Normal/Normal_Videos239_x264.mp4\n",
            "/drive/MyDrive/ucf_extracted/train/Normal/Normal_Videos476_x264.mp4\n",
            "/drive/MyDrive/ucf_extracted/train/Normal/Normal_Videos101_x264.mp4\n",
            "/drive/MyDrive/ucf_extracted/train/Normal/Normal_Videos081_x264.mp4\n",
            "/drive/MyDrive/ucf_extracted/train/Normal/Normal_Videos043_x264.mp4\n",
            "/drive/MyDrive/ucf_extracted/train/Normal/Normal_Videos330_x264.mp4\n",
            "/drive/MyDrive/ucf_extracted/train/Normal/Normal_Videos424_x264.mp4\n",
            "/drive/MyDrive/ucf_extracted/train/Normal/Normal_Videos329_x264.mp4\n",
            "/drive/MyDrive/ucf_extracted/train/Normal/Normal_Videos332_x264.mp4\n",
            "/drive/MyDrive/ucf_extracted/train/Normal/Normal_Videos205_x264.mp4\n",
            "/drive/MyDrive/ucf_extracted/train/Normal/Normal_Videos397_x264.mp4\n",
            "/drive/MyDrive/ucf_extracted/train/Normal/Normal_Videos505_x264.mp4\n",
            "/drive/MyDrive/ucf_extracted/train/Normal/Normal_Videos225_x264.mp4\n",
            "/drive/MyDrive/ucf_extracted/train/Normal/Normal_Videos358_x264.mp4\n",
            "/drive/MyDrive/ucf_extracted/train/Normal/Normal_Videos213_x264.mp4\n",
            "/drive/MyDrive/ucf_extracted/train/Normal/Normal_Videos152_x264.mp4\n",
            "/drive/MyDrive/ucf_extracted/train/Normal/Normal_Videos356_x264.mp4\n",
            "/drive/MyDrive/ucf_extracted/train/Normal/Normal_Videos470_x264.mp4\n",
            "/drive/MyDrive/ucf_extracted/train/Normal/Normal_Videos347_x264.mp4\n",
            "/drive/MyDrive/ucf_extracted/train/Normal/Normal_Videos378_x264.mp4\n",
            "/drive/MyDrive/ucf_extracted/train/Normal/Normal_Videos054_x264.mp4\n",
            "/drive/MyDrive/ucf_extracted/train/Normal/Normal_Videos398_x264.mp4\n",
            "/drive/MyDrive/ucf_extracted/train/Normal/Normal_Videos403_x264.mp4\n",
            "/drive/MyDrive/ucf_extracted/train/Normal/Normal_Videos227_x264.mp4\n",
            "/drive/MyDrive/ucf_extracted/train/Normal/Normal_Videos045_x264.mp4\n",
            "/drive/MyDrive/ucf_extracted/train/Normal/Normal_Videos040_x264.mp4\n",
            "/drive/MyDrive/ucf_extracted/train/Normal/Normal_Videos395_x264.mp4\n",
            "/drive/MyDrive/ucf_extracted/train/Normal/Normal_Videos520_x264.mp4\n",
            "/drive/MyDrive/ucf_extracted/train/Normal/Normal_Videos459_x264.mp4\n",
            "/drive/MyDrive/ucf_extracted/train/Normal/Normal_Videos339_x264.mp4\n",
            "/drive/MyDrive/ucf_extracted/train/Normal/Normal_Videos363_x264.mp4\n",
            "/drive/MyDrive/ucf_extracted/train/Normal/Normal_Videos211_x264.mp4\n",
            "/drive/MyDrive/ucf_extracted/train/Normal/Normal_Videos202_x264.mp4\n",
            "/drive/MyDrive/ucf_extracted/train/Normal/Normal_Videos354_x264.mp4\n",
            "/drive/MyDrive/ucf_extracted/train/Normal/Normal_Videos396_x264.mp4\n",
            "/drive/MyDrive/ucf_extracted/train/Normal/Normal_Videos259_x264.mp4\n",
            "/drive/MyDrive/ucf_extracted/train/Normal/Normal_Videos393_x264.mp4\n",
            "/drive/MyDrive/ucf_extracted/train/Normal/Normal_Videos341_x264.mp4\n",
            "/drive/MyDrive/ucf_extracted/train/Normal/Normal_Videos364_x264.mp4\n",
            "/drive/MyDrive/ucf_extracted/train/Normal/Normal_Videos052_x264.mp4\n",
            "/drive/MyDrive/ucf_extracted/train/Normal/Normal_Videos119_x264.mp4\n",
            "/drive/MyDrive/ucf_extracted/train/Normal/Normal_Videos446_x264.mp4\n",
            "/drive/MyDrive/ucf_extracted/train/Normal/Normal_Videos200_x264.mp4\n",
            "/drive/MyDrive/ucf_extracted/train/Normal/Normal_Videos484_x264.mp4\n",
            "/drive/MyDrive/ucf_extracted/train/Normal/Normal_Videos469_x264.mp4\n",
            "/drive/MyDrive/ucf_extracted/train/Normal/Normal_Videos551_x264.mp4\n",
            "/drive/MyDrive/ucf_extracted/train/Normal/Normal_Videos477_x264.mp4\n",
            "/drive/MyDrive/ucf_extracted/train/Normal/Normal_Videos323_x264.mp4\n",
            "/drive/MyDrive/ucf_extracted/train/Normal/Normal_Videos419_x264.mp4\n",
            "/drive/MyDrive/ucf_extracted/train/Normal/Normal_Videos228_x264.mp4\n",
            "/drive/MyDrive/ucf_extracted/train/Normal/Normal_Videos120_x264.mp4\n",
            "/drive/MyDrive/ucf_extracted/train/Normal/Normal_Videos073_x264.mp4\n",
            "/drive/MyDrive/ucf_extracted/train/Normal/Normal_Videos104_x264.mp4\n",
            "/drive/MyDrive/ucf_extracted/train/Normal/Normal_Videos377_x264.mp4\n",
            "/drive/MyDrive/ucf_extracted/train/Normal/Normal_Videos165_x264.mp4\n",
            "/drive/MyDrive/ucf_extracted/train/Normal/Normal_Videos411_x264.mp4\n",
            "/drive/MyDrive/ucf_extracted/train/Normal/Normal_Videos139_x264.mp4\n",
            "/drive/MyDrive/ucf_extracted/train/Normal/Normal_Videos008_x264.mp4\n",
            "/drive/MyDrive/ucf_extracted/train/Normal/Normal_Videos157_x264.mp4\n",
            "/drive/MyDrive/ucf_extracted/train/Normal/Normal_Videos506_x264.mp4\n",
            "/drive/MyDrive/ucf_extracted/train/Normal/Normal_Videos138_x264.mp4\n",
            "/drive/MyDrive/ucf_extracted/train/Normal/Normal_Videos407_x264.mp4\n",
            "/drive/MyDrive/ucf_extracted/train/Normal/Normal_Videos137_x264.mp4\n",
            "/drive/MyDrive/ucf_extracted/train/Normal/Normal_Videos183_x264.mp4\n",
            "/drive/MyDrive/ucf_extracted/train/Normal/Normal_Videos327_x264.mp4\n",
            "/drive/MyDrive/ucf_extracted/train/Normal/Normal_Videos220_x264.mp4\n",
            "/drive/MyDrive/ucf_extracted/train/Normal/Normal_Videos096_x264.mp4\n",
            "/drive/MyDrive/ucf_extracted/train/Normal/Normal_Videos315_x264.mp4\n",
            "/drive/MyDrive/ucf_extracted/train/Normal/Normal_Videos437_x264.mp4\n",
            "/drive/MyDrive/ucf_extracted/train/Normal/Normal_Videos184_x264.mp4\n",
            "/drive/MyDrive/ucf_extracted/train/Normal/Normal_Videos197_x264.mp4\n",
            "/drive/MyDrive/ucf_extracted/train/Normal/Normal_Videos508_x264.mp4\n",
            "/drive/MyDrive/ucf_extracted/train/Normal/Normal_Videos308_x264.mp4\n",
            "/drive/MyDrive/ucf_extracted/train/Normal/Normal_Videos304_x264.mp4\n",
            "/drive/MyDrive/ucf_extracted/train/Normal/Normal_Videos450_x264.mp4\n",
            "/drive/MyDrive/ucf_extracted/train/Normal/Normal_Videos193_x264.mp4\n",
            "/drive/MyDrive/ucf_extracted/train/Normal/Normal_Videos410_x264.mp4\n",
            "/drive/MyDrive/ucf_extracted/train/Normal/Normal_Videos079_x264.mp4\n",
            "/drive/MyDrive/ucf_extracted/train/Normal/Normal_Videos544_x264.mp4\n",
            "/drive/MyDrive/ucf_extracted/train/Normal/Normal_Videos066_x264.mp4\n",
            "/drive/MyDrive/ucf_extracted/train/Normal/Normal_Videos433_x264.mp4\n",
            "/drive/MyDrive/ucf_extracted/train/Normal/Normal_Videos441_x264.mp4\n",
            "/drive/MyDrive/ucf_extracted/train/Normal/Normal_Videos463_x264.mp4\n",
            "/drive/MyDrive/ucf_extracted/train/Normal/Normal_Videos373_x264.mp4\n",
            "/drive/MyDrive/ucf_extracted/train/Normal/Normal_Videos186_x264.mp4\n",
            "/drive/MyDrive/ucf_extracted/train/Normal/Normal_Videos402_x264.mp4\n",
            "/drive/MyDrive/ucf_extracted/train/Normal/Normal_Videos146_x264.mp4\n",
            "/drive/MyDrive/ucf_extracted/train/Normal/Normal_Videos425_x264.mp4\n",
            "/drive/MyDrive/ucf_extracted/train/Normal/Normal_Videos385_x264.mp4\n",
            "/drive/MyDrive/ucf_extracted/train/Normal/Normal_Videos088_x264.mp4\n",
            "/drive/MyDrive/ucf_extracted/train/Normal/Normal_Videos543_x264.mp4\n",
            "/drive/MyDrive/ucf_extracted/train/Normal/Normal_Videos141_x264.mp4\n",
            "/drive/MyDrive/ucf_extracted/train/Normal/Normal_Videos367_x264.mp4\n",
            "/drive/MyDrive/ucf_extracted/train/Normal/Normal_Videos240_x264.mp4\n",
            "/drive/MyDrive/ucf_extracted/train/Normal/Normal_Videos415_x264.mp4\n",
            "/drive/MyDrive/ucf_extracted/train/Normal/Normal_Videos473_x264.mp4\n",
            "/drive/MyDrive/ucf_extracted/train/Normal/Normal_Videos214_x264.mp4\n",
            "/drive/MyDrive/ucf_extracted/train/Normal/Normal_Videos326_x264.mp4\n",
            "/drive/MyDrive/ucf_extracted/train/Normal/Normal_Videos448_x264.mp4\n",
            "/drive/MyDrive/ucf_extracted/train/Normal/Normal_Videos524_x264.mp4\n",
            "/drive/MyDrive/ucf_extracted/train/Normal/Normal_Videos170_x264.mp4\n",
            "/drive/MyDrive/ucf_extracted/train/Normal/Normal_Videos414_x264.mp4\n",
            "/drive/MyDrive/ucf_extracted/train/Normal/Normal_Videos366_x264.mp4\n",
            "/drive/MyDrive/ucf_extracted/train/Normal/Normal_Videos372_x264.mp4\n",
            "/drive/MyDrive/ucf_extracted/train/Normal/Normal_Videos513_x264.mp4\n",
            "/drive/MyDrive/ucf_extracted/train/Normal/Normal_Videos369_x264.mp4\n",
            "/drive/MyDrive/ucf_extracted/train/Normal/Normal_Videos207_x264.mp4\n",
            "/drive/MyDrive/ucf_extracted/train/Normal/Normal_Videos215_x264.mp4\n",
            "/drive/MyDrive/ucf_extracted/train/Normal/Normal_Videos161_x264.mp4\n",
            "/drive/MyDrive/ucf_extracted/train/Normal/Normal_Videos490_x264.mp4\n",
            "/drive/MyDrive/ucf_extracted/train/Normal/Normal_Videos514_x264.mp4\n",
            "/drive/MyDrive/ucf_extracted/train/Normal/Normal_Videos245_x264.mp4\n",
            "/drive/MyDrive/ucf_extracted/train/Normal/Normal_Videos522_x264.mp4\n",
            "/drive/MyDrive/ucf_extracted/train/Normal/Normal_Videos140_x264.mp4\n",
            "/drive/MyDrive/ucf_extracted/train/Normal/Normal_Videos353_x264.mp4\n",
            "/drive/MyDrive/ucf_extracted/train/Normal/Normal_Videos503_x264.mp4\n",
            "/drive/MyDrive/ucf_extracted/train/Normal/Normal_Videos468_x264.mp4\n",
            "/drive/MyDrive/ucf_extracted/train/Normal/Normal_Videos022_x264.mp4\n",
            "/drive/MyDrive/ucf_extracted/train/Normal/Normal_Videos333_x264.mp4\n",
            "/drive/MyDrive/ucf_extracted/train/Normal/Normal_Videos185_x264.mp4\n",
            "/drive/MyDrive/ucf_extracted/train/Normal/Normal_Videos391_x264.mp4\n",
            "/drive/MyDrive/ucf_extracted/train/Normal/Normal_Videos389_x264.mp4\n",
            "/drive/MyDrive/ucf_extracted/train/Normal/Normal_Videos057_x264.mp4\n",
            "/drive/MyDrive/ucf_extracted/train/Normal/Normal_Videos219_x264.mp4\n",
            "/drive/MyDrive/ucf_extracted/train/Normal/Normal_Videos163_x264.mp4\n",
            "/drive/MyDrive/ucf_extracted/train/Normal/Normal_Videos075_x264.mp4\n",
            "/drive/MyDrive/ucf_extracted/train/Normal/Normal_Videos290_x264.mp4\n",
            "/drive/MyDrive/ucf_extracted/train/Normal/Normal_Videos126_x264.mp4\n",
            "/drive/MyDrive/ucf_extracted/train/Normal/Normal_Videos313_x264.mp4\n",
            "/drive/MyDrive/ucf_extracted/train/Normal/Normal_Videos231_x264.mp4\n",
            "/drive/MyDrive/ucf_extracted/train/Normal/Normal_Videos026_x264.mp4\n",
            "/drive/MyDrive/ucf_extracted/train/Normal/Normal_Videos322_x264.mp4\n",
            "/drive/MyDrive/ucf_extracted/train/Normal/Normal_Videos492_x264.mp4\n",
            "/drive/MyDrive/ucf_extracted/train/Normal/Normal_Videos167_x264.mp4\n",
            "/drive/MyDrive/ucf_extracted/train/Normal/Normal_Videos299_x264.mp4\n",
            "/drive/MyDrive/ucf_extracted/train/Normal/Normal_Videos328_x264.mp4\n",
            "/drive/MyDrive/ucf_extracted/train/Normal/Normal_Videos547_x264.mp4\n",
            "/drive/MyDrive/ucf_extracted/train/Normal/Normal_Videos507_x264.mp4\n",
            "/drive/MyDrive/ucf_extracted/train/Normal/Normal_Videos467_x264.mp4\n",
            "/drive/MyDrive/ucf_extracted/train/Normal/Normal_Videos493_x264.mp4\n",
            "/drive/MyDrive/ucf_extracted/train/Normal/Normal_Videos460_x264.mp4\n",
            "/drive/MyDrive/ucf_extracted/train/Normal/Normal_Videos064_x264.mp4\n",
            "/drive/MyDrive/ucf_extracted/train/Normal/Normal_Videos487_x264.mp4\n",
            "/drive/MyDrive/ucf_extracted/train/Normal/Normal_Videos169_x264.mp4\n",
            "/drive/MyDrive/ucf_extracted/train/Normal/Normal_Videos134_x264.mp4\n",
            "/drive/MyDrive/ucf_extracted/train/Normal/Normal_Videos309_x264.mp4\n",
            "/drive/MyDrive/ucf_extracted/train/Normal/Normal_Videos237_x264.mp4\n",
            "/drive/MyDrive/ucf_extracted/train/Normal/Normal_Videos465_x264.mp4\n",
            "/drive/MyDrive/ucf_extracted/train/Normal/Normal_Videos376_x264.mp4\n",
            "/drive/MyDrive/ucf_extracted/train/Normal/Normal_Videos160_x264.mp4\n",
            "/drive/MyDrive/ucf_extracted/train/Normal/Normal_Videos256_x264.mp4\n",
            "/drive/MyDrive/ucf_extracted/train/Normal/Normal_Videos482_x264.mp4\n",
            "/drive/MyDrive/ucf_extracted/train/Normal/Normal_Videos156_x264.mp4\n",
            "/drive/MyDrive/ucf_extracted/train/Normal/Normal_Videos174_x264.mp4\n",
            "/drive/MyDrive/ucf_extracted/train/Normal/Normal_Videos036_x264.mp4\n",
            "/drive/MyDrive/ucf_extracted/train/Normal/Normal_Videos143_x264.mp4\n",
            "/drive/MyDrive/ucf_extracted/train/Normal/Normal_Videos171_x264.mp4\n",
            "/drive/MyDrive/ucf_extracted/train/Normal/Normal_Videos337_x264.mp4\n",
            "/drive/MyDrive/ucf_extracted/train/Normal/Normal_Videos148_x264.mp4\n",
            "/drive/MyDrive/ucf_extracted/train/Normal/Normal_Videos540_x264.mp4\n",
            "/drive/MyDrive/ucf_extracted/train/Normal/Normal_Videos375_x264.mp4\n",
            "/drive/MyDrive/ucf_extracted/train/Normal/Normal_Videos316_x264.mp4\n",
            "/drive/MyDrive/ucf_extracted/train/Normal/Normal_Videos428_x264.mp4\n",
            "/drive/MyDrive/ucf_extracted/train/Normal/Normal_Videos092_x264.mp4\n",
            "/drive/MyDrive/ucf_extracted/train/Normal/Normal_Videos121_x264.mp4\n",
            "/drive/MyDrive/ucf_extracted/train/Normal/Normal_Videos283_x264.mp4\n",
            "/drive/MyDrive/ucf_extracted/train/Normal/Normal_Videos087_x264.mp4\n",
            "/drive/MyDrive/ucf_extracted/train/Normal/Normal_Videos123_x264.mp4\n",
            "/drive/MyDrive/ucf_extracted/train/Normal/Normal_Videos413_x264.mp4\n",
            "/drive/MyDrive/ucf_extracted/train/Normal/Normal_Videos295_x264.mp4\n",
            "/drive/MyDrive/ucf_extracted/train/Normal/Normal_Videos516_x264.mp4\n",
            "/drive/MyDrive/ucf_extracted/train/Normal/Normal_Videos305_x264.mp4\n",
            "/drive/MyDrive/ucf_extracted/train/Normal/Normal_Videos181_x264.mp4\n",
            "/drive/MyDrive/ucf_extracted/train/Normal/Normal_Videos263_x264.mp4\n",
            "/drive/MyDrive/ucf_extracted/train/Normal/Normal_Videos379_x264.mp4\n",
            "/drive/MyDrive/ucf_extracted/train/Normal/Normal_Videos131_x264.mp4\n",
            "/drive/MyDrive/ucf_extracted/train/Normal/Normal_Videos548_x264.mp4\n",
            "/drive/MyDrive/ucf_extracted/train/Normal/Normal_Videos285_x264.mp4\n",
            "/drive/MyDrive/ucf_extracted/train/Normal/Normal_Videos445_x264.mp4\n",
            "/drive/MyDrive/ucf_extracted/train/Normal/Normal_Videos195_x264.mp4\n",
            "/drive/MyDrive/ucf_extracted/train/Normal/Normal_Videos412_x264.mp4\n",
            "/drive/MyDrive/ucf_extracted/train/Normal/Normal_Videos084_x264.mp4\n",
            "/drive/MyDrive/ucf_extracted/train/Normal/Normal_Videos029_x264.mp4\n",
            "/drive/MyDrive/ucf_extracted/train/Normal/Normal_Videos497_x264.mp4\n",
            "/drive/MyDrive/ucf_extracted/train/Normal/Normal_Videos457_x264.mp4\n",
            "/drive/MyDrive/ucf_extracted/train/Normal/Normal_Videos039_x264.mp4\n",
            "/drive/MyDrive/ucf_extracted/train/Normal/Normal_Videos498_x264.mp4\n",
            "/drive/MyDrive/ucf_extracted/train/Normal/Normal_Videos380_x264.mp4\n",
            "/drive/MyDrive/ucf_extracted/train/Normal/Normal_Videos321_x264.mp4\n",
            "/drive/MyDrive/ucf_extracted/train/Normal/Normal_Videos144_x264.mp4\n",
            "/drive/MyDrive/ucf_extracted/train/Normal/Normal_Videos127_x264.mp4\n",
            "/drive/MyDrive/ucf_extracted/train/Normal/Normal_Videos115_x264.mp4\n",
            "/drive/MyDrive/ucf_extracted/train/Normal/Normal_Videos303_x264.mp4\n",
            "/drive/MyDrive/ucf_extracted/train/Normal/Normal_Videos335_x264.mp4\n",
            "/drive/MyDrive/ucf_extracted/train/Normal/Normal_Videos242_x264.mp4\n",
            "/drive/MyDrive/ucf_extracted/train/Normal/Normal_Videos434_x264.mp4\n",
            "/drive/MyDrive/ucf_extracted/train/Normal/Normal_Videos113_x264.mp4\n",
            "/drive/MyDrive/ucf_extracted/train/Normal/Normal_Videos055_x264.mp4\n",
            "/drive/MyDrive/ucf_extracted/train/Normal/Normal_Videos461_x264.mp4\n",
            "/drive/MyDrive/ucf_extracted/train/Normal/Normal_Videos234_x264.mp4\n",
            "/drive/MyDrive/ucf_extracted/train/Normal/Normal_Videos488_x264.mp4\n",
            "/drive/MyDrive/ucf_extracted/train/Normal/Normal_Videos542_x264.mp4\n",
            "/drive/MyDrive/ucf_extracted/train/Normal/Normal_Videos399_x264.mp4\n",
            "/drive/MyDrive/ucf_extracted/train/Normal/Normal_Videos340_x264.mp4\n",
            "/drive/MyDrive/ucf_extracted/train/Normal/Normal_Videos537_x264.mp4\n",
            "/drive/MyDrive/ucf_extracted/train/Normal/Normal_Videos532_x264.mp4\n",
            "/drive/MyDrive/ucf_extracted/train/Normal/Normal_Videos494_x264.mp4\n",
            "/drive/MyDrive/ucf_extracted/train/Normal/Normal_Videos110_x264.mp4\n",
            "/drive/MyDrive/ucf_extracted/train/Normal/Normal_Videos408_x264.mp4\n",
            "/drive/MyDrive/ucf_extracted/train/Normal/Normal_Videos130_x264.mp4\n",
            "/drive/MyDrive/ucf_extracted/train/Normal/Normal_Videos383_x264.mp4\n",
            "/drive/MyDrive/ucf_extracted/train/Normal/Normal_Videos486_x264.mp4\n",
            "/drive/MyDrive/ucf_extracted/train/Normal/Normal_Videos370_x264.mp4\n",
            "/drive/MyDrive/ucf_extracted/train/Normal/Normal_Videos021_x264.mp4\n",
            "/drive/MyDrive/ucf_extracted/train/Normal/Normal_Videos314_x264.mp4\n",
            "/drive/MyDrive/ucf_extracted/train/Normal/Normal_Videos475_x264.mp4\n",
            "/drive/MyDrive/ucf_extracted/train/Normal/Normal_Videos528_x264.mp4\n",
            "/drive/MyDrive/ucf_extracted/train/Normal/Normal_Videos038_x264.mp4\n",
            "/drive/MyDrive/ucf_extracted/train/Normal/Normal_Videos243_x264.mp4\n",
            "/drive/MyDrive/ucf_extracted/train/Normal/Normal_Videos481_x264.mp4\n",
            "/drive/MyDrive/ucf_extracted/train/Normal/Normal_Videos226_x264.mp4\n",
            "/drive/MyDrive/ucf_extracted/train/Normal/Normal_Videos074_x264.mp4\n",
            "/drive/MyDrive/ucf_extracted/train/Normal/Normal_Videos249_x264.mp4\n",
            "/drive/MyDrive/ucf_extracted/train/Normal/Normal_Videos343_x264.mp4\n",
            "/drive/MyDrive/ucf_extracted/train/Normal/Normal_Videos362_x264.mp4\n",
            "/drive/MyDrive/ucf_extracted/train/Normal/Normal_Videos023_x264.mp4\n",
            "/drive/MyDrive/ucf_extracted/train/Normal/Normal_Videos244_x264.mp4\n",
            "/drive/MyDrive/ucf_extracted/train/Normal/Normal_Videos334_x264.mp4\n",
            "/drive/MyDrive/ucf_extracted/train/Normal/Normal_Videos282_x264.mp4\n",
            "/drive/MyDrive/ucf_extracted/train/Normal/Normal_Videos223_x264.mp4\n",
            "/drive/MyDrive/ucf_extracted/train/Normal/Normal_Videos267_x264.mp4\n",
            "/drive/MyDrive/ucf_extracted/train/Normal/Normal_Videos155_x264.mp4\n",
            "/drive/MyDrive/ucf_extracted/train/Normal/Normal_Videos016_x264.mp4\n",
            "/drive/MyDrive/ucf_extracted/train/Normal/Normal_Videos020_x264.mp4\n",
            "/drive/MyDrive/ucf_extracted/train/Normal/Normal_Videos338_x264.mp4\n",
            "/drive/MyDrive/ucf_extracted/train/Normal/Normal_Videos288_x264.mp4\n",
            "/drive/MyDrive/ucf_extracted/train/Normal/Normal_Videos281_x264.mp4\n",
            "/drive/MyDrive/ucf_extracted/train/Normal/Normal_Videos531_x264.mp4\n",
            "/drive/MyDrive/ucf_extracted/train/Normal/Normal_Videos253_x264.mp4\n",
            "/drive/MyDrive/ucf_extracted/train/Normal/Normal_Videos479_x264.mp4\n",
            "/drive/MyDrive/ucf_extracted/train/Normal/Normal_Videos151_x264.mp4\n",
            "/drive/MyDrive/ucf_extracted/train/Normal/Normal_Videos552_x264.mp4\n",
            "/drive/MyDrive/ucf_extracted/train/Normal/Normal_Videos277_x264.mp4\n",
            "/drive/MyDrive/ucf_extracted/train/Normal/Normal_Videos262_x264.mp4\n",
            "/drive/MyDrive/ucf_extracted/train/Normal/Normal_Videos529_x264.mp4\n",
            "/drive/MyDrive/ucf_extracted/train/Normal/Normal_Videos331_x264.mp4\n",
            "/drive/MyDrive/ucf_extracted/train/Normal/Normal_Videos172_x264.mp4\n",
            "/drive/MyDrive/ucf_extracted/train/Normal/Normal_Videos275_x264.mp4\n",
            "/drive/MyDrive/ucf_extracted/train/Normal/Normal_Videos269_x264.mp4\n",
            "/drive/MyDrive/ucf_extracted/train/Normal/Normal_Videos011_x264.mp4\n",
            "/drive/MyDrive/ucf_extracted/train/Normal/Normal_Videos320_x264.mp4\n",
            "/drive/MyDrive/ucf_extracted/train/Normal/Normal_Videos106_x264.mp4\n",
            "/drive/MyDrive/ucf_extracted/train/Normal/Normal_Videos292_x264.mp4\n",
            "/drive/MyDrive/ucf_extracted/train/Normal/Normal_Videos344_x264.mp4\n",
            "/drive/MyDrive/ucf_extracted/train/Normal/Normal_Videos515_x264.mp4\n",
            "/drive/MyDrive/ucf_extracted/train/Normal/Normal_Videos004_x264.mp4\n",
            "/drive/MyDrive/ucf_extracted/train/Normal/Normal_Videos108_x264.mp4\n",
            "/drive/MyDrive/ucf_extracted/train/Normal/Normal_Videos406_x264.mp4\n",
            "/drive/MyDrive/ucf_extracted/train/Normal/Normal_Videos192_x264.mp4\n",
            "/drive/MyDrive/ucf_extracted/train/Normal/Normal_Videos539_x264.mp4\n",
            "/drive/MyDrive/ucf_extracted/train/Normal/Normal_Videos258_x264.mp4\n",
            "/drive/MyDrive/ucf_extracted/train/Normal/Normal_Videos233_x264.mp4\n",
            "/drive/MyDrive/ucf_extracted/train/Normal/Normal_Videos069_x264.mp4\n",
            "/drive/MyDrive/ucf_extracted/train/Normal/Normal_Videos044_x264.mp4\n",
            "/drive/MyDrive/ucf_extracted/train/Normal/Normal_Videos416_x264.mp4\n",
            "/drive/MyDrive/ucf_extracted/train/Normal/Normal_Videos349_x264.mp4\n",
            "/drive/MyDrive/ucf_extracted/train/Normal/Normal_Videos471_x264.mp4\n",
            "/drive/MyDrive/ucf_extracted/train/Normal/Normal_Videos086_x264.mp4\n",
            "/drive/MyDrive/ucf_extracted/train/Normal/Normal_Videos538_x264.mp4\n",
            "/drive/MyDrive/ucf_extracted/train/Normal/Normal_Videos254_x264.mp4\n",
            "/drive/MyDrive/ucf_extracted/train/Normal/Normal_Videos371_x264.mp4\n",
            "/drive/MyDrive/ucf_extracted/train/Normal/Normal_Videos028_x264.mp4\n",
            "/drive/MyDrive/ucf_extracted/train/Normal/Normal_Videos136_x264.mp4\n",
            "/drive/MyDrive/ucf_extracted/train/Normal/Normal_Videos001_x264.mp4\n"
          ]
        }
      ],
      "source": [
        "!find /content/drive/MyDrive/ucf_extracted"
      ]
    }
  ],
  "metadata": {
    "colab": {
      "provenance": [],
      "include_colab_link": true
    },
    "kernelspec": {
      "display_name": "Python 3",
      "name": "python3"
    }
  },
  "nbformat": 4,
  "nbformat_minor": 0
}