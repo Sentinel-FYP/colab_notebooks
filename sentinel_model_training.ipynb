{
  "nbformat": 4,
  "nbformat_minor": 0,
  "metadata": {
    "colab": {
      "provenance": [],
      "collapsed_sections": [
        "LfxiHz0goe5y",
        "6jfwRvD59RyX",
        "X0MyBsZnTrnh"
      ],
      "gpuType": "T4",
      "include_colab_link": true
    },
    "kernelspec": {
      "name": "python3",
      "display_name": "Python 3"
    },
    "language_info": {
      "name": "python"
    },
    "accelerator": "GPU"
  },
  "cells": [
    {
      "cell_type": "markdown",
      "metadata": {
        "id": "view-in-github",
        "colab_type": "text"
      },
      "source": [
        "<a href=\"https://colab.research.google.com/github/Sentinel-FYP/colab_notebooks/blob/main/sentinel_model_training.ipynb\" target=\"_parent\"><img src=\"https://colab.research.google.com/assets/colab-badge.svg\" alt=\"Open In Colab\"/></a>"
      ]
    },
    {
      "cell_type": "code",
      "source": [
        "from google.colab import drive\n",
        "drive.mount('/content/drive')"
      ],
      "metadata": {
        "colab": {
          "base_uri": "https://localhost:8080/"
        },
        "id": "5uE7UIt2rEkL",
        "outputId": "4b5d77d3-fecd-481a-f5ee-7717958f613b"
      },
      "execution_count": null,
      "outputs": [
        {
          "output_type": "stream",
          "name": "stdout",
          "text": [
            "Mounted at /content/drive\n"
          ]
        }
      ]
    },
    {
      "cell_type": "markdown",
      "source": [
        "## Import Dependencies and Set Constants"
      ],
      "metadata": {
        "id": "lg2stKU9oZgR"
      }
    },
    {
      "cell_type": "markdown",
      "source": [
        "### Install Dependencies"
      ],
      "metadata": {
        "id": "LfxiHz0goe5y"
      }
    },
    {
      "cell_type": "code",
      "source": [
        "!pip install tqdm opencv-python opencv-python-headless tf-models-official\n",
        "!pip install -q git+https://github.com/tensorflow/docs"
      ],
      "metadata": {
        "colab": {
          "base_uri": "https://localhost:8080/"
        },
        "id": "w133-W0-oida",
        "outputId": "65008970-bd76-4db9-d782-da54239ef9a1"
      },
      "execution_count": null,
      "outputs": [
        {
          "output_type": "stream",
          "name": "stdout",
          "text": [
            "Requirement already satisfied: tqdm in /usr/local/lib/python3.10/dist-packages (4.66.1)\n",
            "Requirement already satisfied: opencv-python in /usr/local/lib/python3.10/dist-packages (4.8.0.76)\n",
            "Requirement already satisfied: opencv-python-headless in /usr/local/lib/python3.10/dist-packages (4.8.1.78)\n",
            "Collecting tf-models-official\n",
            "  Downloading tf_models_official-2.14.0-py2.py3-none-any.whl (2.7 MB)\n",
            "\u001b[2K     \u001b[90m━━━━━━━━━━━━━━━━━━━━━━━━━━━━━━━━━━━━━━━━\u001b[0m \u001b[32m2.7/2.7 MB\u001b[0m \u001b[31m39.3 MB/s\u001b[0m eta \u001b[36m0:00:00\u001b[0m\n",
            "\u001b[?25hRequirement already satisfied: numpy>=1.21.2 in /usr/local/lib/python3.10/dist-packages (from opencv-python) (1.23.5)\n",
            "Requirement already satisfied: Cython in /usr/local/lib/python3.10/dist-packages (from tf-models-official) (3.0.3)\n",
            "Requirement already satisfied: Pillow in /usr/local/lib/python3.10/dist-packages (from tf-models-official) (9.4.0)\n",
            "Requirement already satisfied: gin-config in /usr/local/lib/python3.10/dist-packages (from tf-models-official) (0.5.0)\n",
            "Requirement already satisfied: google-api-python-client>=1.6.7 in /usr/local/lib/python3.10/dist-packages (from tf-models-official) (2.84.0)\n",
            "Collecting immutabledict (from tf-models-official)\n",
            "  Downloading immutabledict-3.0.0-py3-none-any.whl (4.0 kB)\n",
            "Requirement already satisfied: kaggle>=1.3.9 in /usr/local/lib/python3.10/dist-packages (from tf-models-official) (1.5.16)\n",
            "Requirement already satisfied: matplotlib in /usr/local/lib/python3.10/dist-packages (from tf-models-official) (3.7.1)\n",
            "Requirement already satisfied: oauth2client in /usr/local/lib/python3.10/dist-packages (from tf-models-official) (4.1.3)\n",
            "Requirement already satisfied: pandas>=0.22.0 in /usr/local/lib/python3.10/dist-packages (from tf-models-official) (1.5.3)\n",
            "Requirement already satisfied: psutil>=5.4.3 in /usr/local/lib/python3.10/dist-packages (from tf-models-official) (5.9.5)\n",
            "Requirement already satisfied: py-cpuinfo>=3.3.0 in /usr/local/lib/python3.10/dist-packages (from tf-models-official) (9.0.0)\n",
            "Requirement already satisfied: pycocotools in /usr/local/lib/python3.10/dist-packages (from tf-models-official) (2.0.7)\n",
            "Requirement already satisfied: pyyaml>=6.0.0 in /usr/local/lib/python3.10/dist-packages (from tf-models-official) (6.0.1)\n",
            "Collecting sacrebleu (from tf-models-official)\n",
            "  Downloading sacrebleu-2.3.1-py3-none-any.whl (118 kB)\n",
            "\u001b[2K     \u001b[90m━━━━━━━━━━━━━━━━━━━━━━━━━━━━━━━━━━━━━━\u001b[0m \u001b[32m118.9/118.9 kB\u001b[0m \u001b[31m16.2 MB/s\u001b[0m eta \u001b[36m0:00:00\u001b[0m\n",
            "\u001b[?25hRequirement already satisfied: scipy>=0.19.1 in /usr/local/lib/python3.10/dist-packages (from tf-models-official) (1.11.3)\n",
            "Collecting sentencepiece (from tf-models-official)\n",
            "  Downloading sentencepiece-0.1.99-cp310-cp310-manylinux_2_17_x86_64.manylinux2014_x86_64.whl (1.3 MB)\n",
            "\u001b[2K     \u001b[90m━━━━━━━━━━━━━━━━━━━━━━━━━━━━━━━━━━━━━━━━\u001b[0m \u001b[32m1.3/1.3 MB\u001b[0m \u001b[31m47.4 MB/s\u001b[0m eta \u001b[36m0:00:00\u001b[0m\n",
            "\u001b[?25hCollecting seqeval (from tf-models-official)\n",
            "  Downloading seqeval-1.2.2.tar.gz (43 kB)\n",
            "\u001b[2K     \u001b[90m━━━━━━━━━━━━━━━━━━━━━━━━━━━━━━━━━━━━━━━━\u001b[0m \u001b[32m43.6/43.6 kB\u001b[0m \u001b[31m7.2 MB/s\u001b[0m eta \u001b[36m0:00:00\u001b[0m\n",
            "\u001b[?25h  Preparing metadata (setup.py) ... \u001b[?25l\u001b[?25hdone\n",
            "Requirement already satisfied: six in /usr/local/lib/python3.10/dist-packages (from tf-models-official) (1.16.0)\n",
            "Requirement already satisfied: tensorflow-datasets in /usr/local/lib/python3.10/dist-packages (from tf-models-official) (4.9.3)\n",
            "Requirement already satisfied: tensorflow-hub>=0.6.0 in /usr/local/lib/python3.10/dist-packages (from tf-models-official) (0.15.0)\n",
            "Collecting tensorflow-model-optimization>=0.4.1 (from tf-models-official)\n",
            "  Downloading tensorflow_model_optimization-0.7.5-py2.py3-none-any.whl (241 kB)\n",
            "\u001b[2K     \u001b[90m━━━━━━━━━━━━━━━━━━━━━━━━━━━━━━━━━━━━━━\u001b[0m \u001b[32m241.2/241.2 kB\u001b[0m \u001b[31m32.8 MB/s\u001b[0m eta \u001b[36m0:00:00\u001b[0m\n",
            "\u001b[?25hCollecting tensorflow-text~=2.14.0 (from tf-models-official)\n",
            "  Downloading tensorflow_text-2.14.0-cp310-cp310-manylinux_2_17_x86_64.manylinux2014_x86_64.whl (6.5 MB)\n",
            "\u001b[2K     \u001b[90m━━━━━━━━━━━━━━━━━━━━━━━━━━━━━━━━━━━━━━━━\u001b[0m \u001b[32m6.5/6.5 MB\u001b[0m \u001b[31m112.3 MB/s\u001b[0m eta \u001b[36m0:00:00\u001b[0m\n",
            "\u001b[?25hCollecting tensorflow~=2.14.0 (from tf-models-official)\n",
            "  Downloading tensorflow-2.14.0-cp310-cp310-manylinux_2_17_x86_64.manylinux2014_x86_64.whl (489.8 MB)\n",
            "\u001b[2K     \u001b[90m━━━━━━━━━━━━━━━━━━━━━━━━━━━━━━━━━━━━━━━\u001b[0m \u001b[32m489.8/489.8 MB\u001b[0m \u001b[31m3.4 MB/s\u001b[0m eta \u001b[36m0:00:00\u001b[0m\n",
            "\u001b[?25hRequirement already satisfied: tf-slim>=1.1.0 in /usr/local/lib/python3.10/dist-packages (from tf-models-official) (1.1.0)\n",
            "Requirement already satisfied: httplib2<1dev,>=0.15.0 in /usr/local/lib/python3.10/dist-packages (from google-api-python-client>=1.6.7->tf-models-official) (0.22.0)\n",
            "Requirement already satisfied: google-auth<3.0.0dev,>=1.19.0 in /usr/local/lib/python3.10/dist-packages (from google-api-python-client>=1.6.7->tf-models-official) (2.17.3)\n",
            "Requirement already satisfied: google-auth-httplib2>=0.1.0 in /usr/local/lib/python3.10/dist-packages (from google-api-python-client>=1.6.7->tf-models-official) (0.1.1)\n",
            "Requirement already satisfied: google-api-core!=2.0.*,!=2.1.*,!=2.2.*,!=2.3.0,<3.0.0dev,>=1.31.5 in /usr/local/lib/python3.10/dist-packages (from google-api-python-client>=1.6.7->tf-models-official) (2.11.1)\n",
            "Requirement already satisfied: uritemplate<5,>=3.0.1 in /usr/local/lib/python3.10/dist-packages (from google-api-python-client>=1.6.7->tf-models-official) (4.1.1)\n",
            "Requirement already satisfied: certifi in /usr/local/lib/python3.10/dist-packages (from kaggle>=1.3.9->tf-models-official) (2023.7.22)\n",
            "Requirement already satisfied: python-dateutil in /usr/local/lib/python3.10/dist-packages (from kaggle>=1.3.9->tf-models-official) (2.8.2)\n",
            "Requirement already satisfied: requests in /usr/local/lib/python3.10/dist-packages (from kaggle>=1.3.9->tf-models-official) (2.31.0)\n",
            "Requirement already satisfied: python-slugify in /usr/local/lib/python3.10/dist-packages (from kaggle>=1.3.9->tf-models-official) (8.0.1)\n",
            "Requirement already satisfied: urllib3 in /usr/local/lib/python3.10/dist-packages (from kaggle>=1.3.9->tf-models-official) (2.0.6)\n",
            "Requirement already satisfied: bleach in /usr/local/lib/python3.10/dist-packages (from kaggle>=1.3.9->tf-models-official) (6.0.0)\n",
            "Requirement already satisfied: pytz>=2020.1 in /usr/local/lib/python3.10/dist-packages (from pandas>=0.22.0->tf-models-official) (2023.3.post1)\n",
            "Requirement already satisfied: absl-py>=1.0.0 in /usr/local/lib/python3.10/dist-packages (from tensorflow~=2.14.0->tf-models-official) (1.4.0)\n",
            "Requirement already satisfied: astunparse>=1.6.0 in /usr/local/lib/python3.10/dist-packages (from tensorflow~=2.14.0->tf-models-official) (1.6.3)\n",
            "Requirement already satisfied: flatbuffers>=23.5.26 in /usr/local/lib/python3.10/dist-packages (from tensorflow~=2.14.0->tf-models-official) (23.5.26)\n",
            "Requirement already satisfied: gast!=0.5.0,!=0.5.1,!=0.5.2,>=0.2.1 in /usr/local/lib/python3.10/dist-packages (from tensorflow~=2.14.0->tf-models-official) (0.4.0)\n",
            "Requirement already satisfied: google-pasta>=0.1.1 in /usr/local/lib/python3.10/dist-packages (from tensorflow~=2.14.0->tf-models-official) (0.2.0)\n",
            "Requirement already satisfied: h5py>=2.9.0 in /usr/local/lib/python3.10/dist-packages (from tensorflow~=2.14.0->tf-models-official) (3.9.0)\n",
            "Requirement already satisfied: libclang>=13.0.0 in /usr/local/lib/python3.10/dist-packages (from tensorflow~=2.14.0->tf-models-official) (16.0.6)\n",
            "Collecting ml-dtypes==0.2.0 (from tensorflow~=2.14.0->tf-models-official)\n",
            "  Downloading ml_dtypes-0.2.0-cp310-cp310-manylinux_2_17_x86_64.manylinux2014_x86_64.whl (1.0 MB)\n",
            "\u001b[2K     \u001b[90m━━━━━━━━━━━━━━━━━━━━━━━━━━━━━━━━━━━━━━━━\u001b[0m \u001b[32m1.0/1.0 MB\u001b[0m \u001b[31m76.1 MB/s\u001b[0m eta \u001b[36m0:00:00\u001b[0m\n",
            "\u001b[?25hRequirement already satisfied: opt-einsum>=2.3.2 in /usr/local/lib/python3.10/dist-packages (from tensorflow~=2.14.0->tf-models-official) (3.3.0)\n",
            "Requirement already satisfied: packaging in /usr/local/lib/python3.10/dist-packages (from tensorflow~=2.14.0->tf-models-official) (23.2)\n",
            "Requirement already satisfied: protobuf!=4.21.0,!=4.21.1,!=4.21.2,!=4.21.3,!=4.21.4,!=4.21.5,<5.0.0dev,>=3.20.3 in /usr/local/lib/python3.10/dist-packages (from tensorflow~=2.14.0->tf-models-official) (3.20.3)\n",
            "Requirement already satisfied: setuptools in /usr/local/lib/python3.10/dist-packages (from tensorflow~=2.14.0->tf-models-official) (67.7.2)\n",
            "Requirement already satisfied: termcolor>=1.1.0 in /usr/local/lib/python3.10/dist-packages (from tensorflow~=2.14.0->tf-models-official) (2.3.0)\n",
            "Requirement already satisfied: typing-extensions>=3.6.6 in /usr/local/lib/python3.10/dist-packages (from tensorflow~=2.14.0->tf-models-official) (4.5.0)\n",
            "Collecting wrapt<1.15,>=1.11.0 (from tensorflow~=2.14.0->tf-models-official)\n",
            "  Downloading wrapt-1.14.1-cp310-cp310-manylinux_2_5_x86_64.manylinux1_x86_64.manylinux_2_17_x86_64.manylinux2014_x86_64.whl (77 kB)\n",
            "\u001b[2K     \u001b[90m━━━━━━━━━━━━━━━━━━━━━━━━━━━━━━━━━━━━━━━━\u001b[0m \u001b[32m77.9/77.9 kB\u001b[0m \u001b[31m12.3 MB/s\u001b[0m eta \u001b[36m0:00:00\u001b[0m\n",
            "\u001b[?25hRequirement already satisfied: tensorflow-io-gcs-filesystem>=0.23.1 in /usr/local/lib/python3.10/dist-packages (from tensorflow~=2.14.0->tf-models-official) (0.34.0)\n",
            "Requirement already satisfied: grpcio<2.0,>=1.24.3 in /usr/local/lib/python3.10/dist-packages (from tensorflow~=2.14.0->tf-models-official) (1.59.0)\n",
            "Collecting tensorboard<2.15,>=2.14 (from tensorflow~=2.14.0->tf-models-official)\n",
            "  Downloading tensorboard-2.14.1-py3-none-any.whl (5.5 MB)\n",
            "\u001b[2K     \u001b[90m━━━━━━━━━━━━━━━━━━━━━━━━━━━━━━━━━━━━━━━━\u001b[0m \u001b[32m5.5/5.5 MB\u001b[0m \u001b[31m119.8 MB/s\u001b[0m eta \u001b[36m0:00:00\u001b[0m\n",
            "\u001b[?25hCollecting tensorflow-estimator<2.15,>=2.14.0 (from tensorflow~=2.14.0->tf-models-official)\n",
            "  Downloading tensorflow_estimator-2.14.0-py2.py3-none-any.whl (440 kB)\n",
            "\u001b[2K     \u001b[90m━━━━━━━━━━━━━━━━━━━━━━━━━━━━━━━━━━━━━━\u001b[0m \u001b[32m440.7/440.7 kB\u001b[0m \u001b[31m52.3 MB/s\u001b[0m eta \u001b[36m0:00:00\u001b[0m\n",
            "\u001b[?25hCollecting keras<2.15,>=2.14.0 (from tensorflow~=2.14.0->tf-models-official)\n",
            "  Downloading keras-2.14.0-py3-none-any.whl (1.7 MB)\n",
            "\u001b[2K     \u001b[90m━━━━━━━━━━━━━━━━━━━━━━━━━━━━━━━━━━━━━━━━\u001b[0m \u001b[32m1.7/1.7 MB\u001b[0m \u001b[31m95.0 MB/s\u001b[0m eta \u001b[36m0:00:00\u001b[0m\n",
            "\u001b[?25hRequirement already satisfied: dm-tree~=0.1.1 in /usr/local/lib/python3.10/dist-packages (from tensorflow-model-optimization>=0.4.1->tf-models-official) (0.1.8)\n",
            "Requirement already satisfied: contourpy>=1.0.1 in /usr/local/lib/python3.10/dist-packages (from matplotlib->tf-models-official) (1.1.1)\n",
            "Requirement already satisfied: cycler>=0.10 in /usr/local/lib/python3.10/dist-packages (from matplotlib->tf-models-official) (0.12.0)\n",
            "Requirement already satisfied: fonttools>=4.22.0 in /usr/local/lib/python3.10/dist-packages (from matplotlib->tf-models-official) (4.43.1)\n",
            "Requirement already satisfied: kiwisolver>=1.0.1 in /usr/local/lib/python3.10/dist-packages (from matplotlib->tf-models-official) (1.4.5)\n",
            "Requirement already satisfied: pyparsing>=2.3.1 in /usr/local/lib/python3.10/dist-packages (from matplotlib->tf-models-official) (3.1.1)\n",
            "Requirement already satisfied: pyasn1>=0.1.7 in /usr/local/lib/python3.10/dist-packages (from oauth2client->tf-models-official) (0.5.0)\n",
            "Requirement already satisfied: pyasn1-modules>=0.0.5 in /usr/local/lib/python3.10/dist-packages (from oauth2client->tf-models-official) (0.3.0)\n",
            "Requirement already satisfied: rsa>=3.1.4 in /usr/local/lib/python3.10/dist-packages (from oauth2client->tf-models-official) (4.9)\n",
            "Collecting portalocker (from sacrebleu->tf-models-official)\n",
            "  Downloading portalocker-2.8.2-py3-none-any.whl (17 kB)\n",
            "Requirement already satisfied: regex in /usr/local/lib/python3.10/dist-packages (from sacrebleu->tf-models-official) (2023.6.3)\n",
            "Requirement already satisfied: tabulate>=0.8.9 in /usr/local/lib/python3.10/dist-packages (from sacrebleu->tf-models-official) (0.9.0)\n",
            "Collecting colorama (from sacrebleu->tf-models-official)\n",
            "  Downloading colorama-0.4.6-py2.py3-none-any.whl (25 kB)\n",
            "Requirement already satisfied: lxml in /usr/local/lib/python3.10/dist-packages (from sacrebleu->tf-models-official) (4.9.3)\n",
            "Requirement already satisfied: scikit-learn>=0.21.3 in /usr/local/lib/python3.10/dist-packages (from seqeval->tf-models-official) (1.2.2)\n",
            "Requirement already satisfied: array-record in /usr/local/lib/python3.10/dist-packages (from tensorflow-datasets->tf-models-official) (0.4.1)\n",
            "Requirement already satisfied: click in /usr/local/lib/python3.10/dist-packages (from tensorflow-datasets->tf-models-official) (8.1.7)\n",
            "Requirement already satisfied: etils[enp,epath,etree]>=0.9.0 in /usr/local/lib/python3.10/dist-packages (from tensorflow-datasets->tf-models-official) (1.5.0)\n",
            "Requirement already satisfied: promise in /usr/local/lib/python3.10/dist-packages (from tensorflow-datasets->tf-models-official) (2.3)\n",
            "Requirement already satisfied: tensorflow-metadata in /usr/local/lib/python3.10/dist-packages (from tensorflow-datasets->tf-models-official) (1.14.0)\n",
            "Requirement already satisfied: toml in /usr/local/lib/python3.10/dist-packages (from tensorflow-datasets->tf-models-official) (0.10.2)\n",
            "Requirement already satisfied: wheel<1.0,>=0.23.0 in /usr/local/lib/python3.10/dist-packages (from astunparse>=1.6.0->tensorflow~=2.14.0->tf-models-official) (0.41.2)\n",
            "Requirement already satisfied: fsspec in /usr/local/lib/python3.10/dist-packages (from etils[enp,epath,etree]>=0.9.0->tensorflow-datasets->tf-models-official) (2023.6.0)\n",
            "Requirement already satisfied: importlib_resources in /usr/local/lib/python3.10/dist-packages (from etils[enp,epath,etree]>=0.9.0->tensorflow-datasets->tf-models-official) (6.1.0)\n",
            "Requirement already satisfied: zipp in /usr/local/lib/python3.10/dist-packages (from etils[enp,epath,etree]>=0.9.0->tensorflow-datasets->tf-models-official) (3.17.0)\n",
            "Requirement already satisfied: googleapis-common-protos<2.0.dev0,>=1.56.2 in /usr/local/lib/python3.10/dist-packages (from google-api-core!=2.0.*,!=2.1.*,!=2.2.*,!=2.3.0,<3.0.0dev,>=1.31.5->google-api-python-client>=1.6.7->tf-models-official) (1.60.0)\n",
            "Requirement already satisfied: cachetools<6.0,>=2.0.0 in /usr/local/lib/python3.10/dist-packages (from google-auth<3.0.0dev,>=1.19.0->google-api-python-client>=1.6.7->tf-models-official) (5.3.1)\n",
            "Requirement already satisfied: charset-normalizer<4,>=2 in /usr/local/lib/python3.10/dist-packages (from requests->kaggle>=1.3.9->tf-models-official) (3.3.0)\n",
            "Requirement already satisfied: idna<4,>=2.5 in /usr/local/lib/python3.10/dist-packages (from requests->kaggle>=1.3.9->tf-models-official) (3.4)\n",
            "Requirement already satisfied: joblib>=1.1.1 in /usr/local/lib/python3.10/dist-packages (from scikit-learn>=0.21.3->seqeval->tf-models-official) (1.3.2)\n",
            "Requirement already satisfied: threadpoolctl>=2.0.0 in /usr/local/lib/python3.10/dist-packages (from scikit-learn>=0.21.3->seqeval->tf-models-official) (3.2.0)\n",
            "Requirement already satisfied: google-auth-oauthlib<1.1,>=0.5 in /usr/local/lib/python3.10/dist-packages (from tensorboard<2.15,>=2.14->tensorflow~=2.14.0->tf-models-official) (1.0.0)\n",
            "Requirement already satisfied: markdown>=2.6.8 in /usr/local/lib/python3.10/dist-packages (from tensorboard<2.15,>=2.14->tensorflow~=2.14.0->tf-models-official) (3.4.4)\n",
            "Requirement already satisfied: tensorboard-data-server<0.8.0,>=0.7.0 in /usr/local/lib/python3.10/dist-packages (from tensorboard<2.15,>=2.14->tensorflow~=2.14.0->tf-models-official) (0.7.1)\n",
            "Requirement already satisfied: werkzeug>=1.0.1 in /usr/local/lib/python3.10/dist-packages (from tensorboard<2.15,>=2.14->tensorflow~=2.14.0->tf-models-official) (3.0.0)\n",
            "Requirement already satisfied: webencodings in /usr/local/lib/python3.10/dist-packages (from bleach->kaggle>=1.3.9->tf-models-official) (0.5.1)\n",
            "Requirement already satisfied: text-unidecode>=1.3 in /usr/local/lib/python3.10/dist-packages (from python-slugify->kaggle>=1.3.9->tf-models-official) (1.3)\n",
            "Requirement already satisfied: requests-oauthlib>=0.7.0 in /usr/local/lib/python3.10/dist-packages (from google-auth-oauthlib<1.1,>=0.5->tensorboard<2.15,>=2.14->tensorflow~=2.14.0->tf-models-official) (1.3.1)\n",
            "Requirement already satisfied: MarkupSafe>=2.1.1 in /usr/local/lib/python3.10/dist-packages (from werkzeug>=1.0.1->tensorboard<2.15,>=2.14->tensorflow~=2.14.0->tf-models-official) (2.1.3)\n",
            "Requirement already satisfied: oauthlib>=3.0.0 in /usr/local/lib/python3.10/dist-packages (from requests-oauthlib>=0.7.0->google-auth-oauthlib<1.1,>=0.5->tensorboard<2.15,>=2.14->tensorflow~=2.14.0->tf-models-official) (3.2.2)\n",
            "Building wheels for collected packages: seqeval\n",
            "  Building wheel for seqeval (setup.py) ... \u001b[?25l\u001b[?25hdone\n",
            "  Created wheel for seqeval: filename=seqeval-1.2.2-py3-none-any.whl size=16162 sha256=92645f89e6b41cecc5c53a2e92e027b5ff401489531301e7e8a2dacb270f9111\n",
            "  Stored in directory: /root/.cache/pip/wheels/1a/67/4a/ad4082dd7dfc30f2abfe4d80a2ed5926a506eb8a972b4767fa\n",
            "Successfully built seqeval\n",
            "Installing collected packages: sentencepiece, wrapt, tensorflow-model-optimization, tensorflow-estimator, portalocker, ml-dtypes, keras, immutabledict, colorama, sacrebleu, seqeval, tensorboard, tensorflow, tensorflow-text, tf-models-official\n",
            "  Attempting uninstall: wrapt\n",
            "    Found existing installation: wrapt 1.15.0\n",
            "    Uninstalling wrapt-1.15.0:\n",
            "      Successfully uninstalled wrapt-1.15.0\n",
            "  Attempting uninstall: tensorflow-estimator\n",
            "    Found existing installation: tensorflow-estimator 2.13.0\n",
            "    Uninstalling tensorflow-estimator-2.13.0:\n",
            "      Successfully uninstalled tensorflow-estimator-2.13.0\n",
            "  Attempting uninstall: ml-dtypes\n",
            "    Found existing installation: ml-dtypes 0.3.1\n",
            "    Uninstalling ml-dtypes-0.3.1:\n",
            "      Successfully uninstalled ml-dtypes-0.3.1\n",
            "  Attempting uninstall: keras\n",
            "    Found existing installation: keras 2.13.1\n",
            "    Uninstalling keras-2.13.1:\n",
            "      Successfully uninstalled keras-2.13.1\n",
            "  Attempting uninstall: tensorboard\n",
            "    Found existing installation: tensorboard 2.13.0\n",
            "    Uninstalling tensorboard-2.13.0:\n",
            "      Successfully uninstalled tensorboard-2.13.0\n",
            "  Attempting uninstall: tensorflow\n",
            "    Found existing installation: tensorflow 2.13.0\n",
            "    Uninstalling tensorflow-2.13.0:\n",
            "      Successfully uninstalled tensorflow-2.13.0\n",
            "Successfully installed colorama-0.4.6 immutabledict-3.0.0 keras-2.14.0 ml-dtypes-0.2.0 portalocker-2.8.2 sacrebleu-2.3.1 sentencepiece-0.1.99 seqeval-1.2.2 tensorboard-2.14.1 tensorflow-2.14.0 tensorflow-estimator-2.14.0 tensorflow-model-optimization-0.7.5 tensorflow-text-2.14.0 tf-models-official-2.14.0 wrapt-1.14.1\n",
            "  Preparing metadata (setup.py) ... \u001b[?25l\u001b[?25hdone\n",
            "  Building wheel for tensorflow-docs (setup.py) ... \u001b[?25l\u001b[?25hdone\n"
          ]
        }
      ]
    },
    {
      "cell_type": "markdown",
      "source": [
        "### Import Packages"
      ],
      "metadata": {
        "id": "XhwycXykolyV"
      }
    },
    {
      "cell_type": "code",
      "source": [
        "import tqdm\n",
        "import random\n",
        "import pathlib\n",
        "import itertools\n",
        "import collections\n",
        "\n",
        "import os\n",
        "import cv2\n",
        "import numpy as np\n",
        "import zipfile as zf\n",
        "import pandas as pd\n",
        "from sklearn.model_selection import train_test_split\n",
        "import seaborn as sns\n",
        "import matplotlib.pyplot as plt\n",
        "%matplotlib inline\n",
        "\n",
        "import tensorflow as tf\n",
        "\n",
        "# Some modules to display an animation using imageio.\n",
        "import imageio\n",
        "from IPython import display\n",
        "from urllib import request\n",
        "from tensorflow_docs.vis import embed\n",
        "\n",
        "# Import the MoViNet model from TensorFlow Models (tf-models-official) for the MoViNet model\n",
        "from official.projects.movinet.modeling import movinet\n",
        "from official.projects.movinet.modeling import movinet_model\n",
        "from official.projects.movinet.tools import export_saved_model"
      ],
      "metadata": {
        "id": "y6q5kcYaooRH"
      },
      "execution_count": null,
      "outputs": []
    },
    {
      "cell_type": "markdown",
      "source": [
        "### Set Hyperparams"
      ],
      "metadata": {
        "id": "czh8PfxIpFdM"
      }
    },
    {
      "cell_type": "code",
      "source": [
        "num_classes = 2\n",
        "batch_size = 1\n",
        "resolution = 172\n",
        "num_frames = 64\n",
        "frame_step = 1\n",
        "dropout_rate=0.\n",
        "bias_regularizer=0.\n",
        "epochs = 5\n",
        "model_id = 'a0'\n",
        "export_model = False\n",
        "start_from_checkpoint = True\n",
        "evaluate = False\n",
        "export_model_name = 'a0_stream_5.0'\n",
        "frame_shape = (num_frames, resolution, resolution, 3)\n",
        "input_shape = (batch_size, num_frames, resolution, resolution, 3)"
      ],
      "metadata": {
        "id": "tUdv4u9KpG7I"
      },
      "execution_count": null,
      "outputs": []
    },
    {
      "cell_type": "markdown",
      "source": [
        "### Create Directory Structure"
      ],
      "metadata": {
        "id": "6qUTC4broxiv"
      }
    },
    {
      "cell_type": "code",
      "source": [
        "paths = {}\n",
        "paths['root'] = pathlib.Path('/content/drive/MyDrive/ucf_dataset')\n",
        "assert paths['root'].exists() == True\n",
        "paths['models'] = (paths['root'] / 'models' / model_id)\n",
        "paths['tflite'] = (paths['root'] / 'tf_lite_models' / model_id)\n",
        "paths['checkpoints_dir'] = (paths['root'] / 'checkpoints' / model_id / export_model_name)"
      ],
      "metadata": {
        "id": "w_wXBxDQo1VW"
      },
      "execution_count": null,
      "outputs": []
    },
    {
      "cell_type": "code",
      "source": [
        "for p in paths.values():\n",
        "  assert p.exists()"
      ],
      "metadata": {
        "id": "FeTnH_SVrei3"
      },
      "execution_count": null,
      "outputs": []
    },
    {
      "cell_type": "markdown",
      "source": [
        "## Load Data"
      ],
      "metadata": {
        "id": "f3Rmb4tOsOWD"
      }
    },
    {
      "cell_type": "markdown",
      "source": [
        "### Load Annotations"
      ],
      "metadata": {
        "id": "YOnMufiUsZY1"
      }
    },
    {
      "cell_type": "code",
      "source": [
        "annotations = pd.read_csv(paths['root'] / 'frame_annotations.csv')\n",
        "annotations = annotations.set_index('file_name')\n",
        "annotations['binary_class'] = annotations['is_annomaly'].map({1.0 : 'Anomaly', 0.0 : \"Normal\"})"
      ],
      "metadata": {
        "id": "4nGn-ihnsVRx"
      },
      "execution_count": null,
      "outputs": []
    },
    {
      "cell_type": "markdown",
      "source": [
        "### Define Helper Functions"
      ],
      "metadata": {
        "id": "Ehg8I5xDsgXD"
      }
    },
    {
      "cell_type": "code",
      "source": [
        "def get_class(fname):\n",
        "  \"\"\" Retrieve the name of the class given a filename/file_path.\n",
        "\n",
        "    Args:\n",
        "      fname: Name of the file in the UCF Crime dataset.\n",
        "    Returns:\n",
        "      Class that the file belongs to.\n",
        "  \"\"\"\n",
        "  fname = fname.split('/')[-1]\n",
        "  class_name = fname.split('_')[0]\n",
        "  #remove numbers\n",
        "  class_name = ''.join(char for char in class_name if not char.isnumeric())\n",
        "  if class_name == \"Normal\":\n",
        "    return \"Normal\"\n",
        "  else:\n",
        "    return \"Anomaly\""
      ],
      "metadata": {
        "id": "9kblnaORsjd1"
      },
      "execution_count": null,
      "outputs": []
    },
    {
      "cell_type": "code",
      "source": [
        "def format_frames(frame, output_size):\n",
        "  \"\"\"\n",
        "    Pad and resize an image from a video.\n",
        "\n",
        "    Args:\n",
        "      frame: Image that needs to resized and padded.\n",
        "      output_size: Pixel size of the output frame image.\n",
        "\n",
        "    Return:\n",
        "      Formatted frame with padding of specified output size.\n",
        "  \"\"\"\n",
        "  frame = tf.image.convert_image_dtype(frame, tf.float32)\n",
        "  frame = tf.image.resize_with_pad(frame, *output_size)\n",
        "  return frame"
      ],
      "metadata": {
        "id": "GbXirjoKuj_R"
      },
      "execution_count": null,
      "outputs": []
    },
    {
      "cell_type": "code",
      "source": [
        "def get_video_annotations(video_path, annotations_df=annotations):\n",
        "  video_name = str(video_path).split(\"/\")[-1]\n",
        "  return annotations_df.loc[video_name].to_dict()"
      ],
      "metadata": {
        "id": "Xw7elBnhumAt"
      },
      "execution_count": null,
      "outputs": []
    },
    {
      "cell_type": "code",
      "source": [
        "# def frames_from_video_file(video_path, n_frames, output_size, frame_step):\n",
        "#   \"\"\"\n",
        "#     Creates frames from each video file present for each category.\n",
        "\n",
        "#     Args:\n",
        "#       video_path: File path to the video.\n",
        "#       n_frames: Number of frames to be created per video file.\n",
        "#       output_size: Pixel size of the output frame image.\n",
        "\n",
        "#     Return:\n",
        "#       An NumPy array of frames in the shape of (n_frames, height, width, channels).\n",
        "#   \"\"\"\n",
        "#   # Read each video frame by frame\n",
        "#   video_annotations = get_video_annotations(video_path)\n",
        "#   result = []\n",
        "#   src = cv2.VideoCapture(str(video_path))\n",
        "\n",
        "#   video_length = src.get(cv2.CAP_PROP_FRAME_COUNT)\n",
        "#   need_length = 1 + (n_frames - 1) * frame_step\n",
        "#   if video_annotations['anomaly_1_start'] == -1:\n",
        "#     if need_length > video_length:\n",
        "#       start = 0\n",
        "#       end = video_length\n",
        "#     else:\n",
        "#       max_start = video_length - need_length\n",
        "#       start = random.randint(0, max_start + 1)\n",
        "#       end = start + need_length\n",
        "#   else:\n",
        "#     start = video_annotations['anomaly_1_start']\n",
        "#     end = video_annotations['anomaly_1_end']\n",
        "#   src.set(cv2.CAP_PROP_POS_FRAMES, start)\n",
        "#   # ret is a boolean indicating whether read was successful, frame is the image itself\n",
        "#   ret, frame = src.read()\n",
        "#   frame_count = start + 1;\n",
        "#   result.append(format_frames(frame, output_size))\n",
        "\n",
        "#   for _ in range(n_frames - 1):\n",
        "#     for _ in range(frame_step):\n",
        "#       ret, frame = src.read()\n",
        "#       frame_count += 1;\n",
        "#     if ret and frame_count < end and frame is not None:\n",
        "#       frame = format_frames(frame, output_size)\n",
        "#       result.append(frame)\n",
        "#     else:\n",
        "#       break\n",
        "#   src.release()\n",
        "#   result = np.array(result)[..., [2, 1, 0]]\n",
        "\n",
        "#   return result"
      ],
      "metadata": {
        "id": "oJzxSG3LunaF"
      },
      "execution_count": null,
      "outputs": []
    },
    {
      "cell_type": "code",
      "source": [
        "def frames_from_video_file(video_path, n_frames, output_size, frame_step):\n",
        "  \"\"\"\n",
        "    Creates frames from each video file present for each category.\n",
        "\n",
        "    Args:\n",
        "      video_path: File path to the video.\n",
        "      n_frames: Number of frames to be created per video file.\n",
        "      output_size: Pixel size of the output frame image.\n",
        "\n",
        "    Return:\n",
        "      An NumPy array of frames in the shape of (n_frames, height, width, channels).\n",
        "  \"\"\"\n",
        "  # Read each video frame by frame\n",
        "  video_annotations = get_video_annotations(video_path)\n",
        "  result = []\n",
        "  src = cv2.VideoCapture(str(video_path))\n",
        "\n",
        "  video_length = src.get(cv2.CAP_PROP_FRAME_COUNT)\n",
        "  need_length = n_frames\n",
        "  if video_annotations['anomaly_1_start'] == -1:\n",
        "    if need_length > video_length:\n",
        "      start = 0\n",
        "      end = video_length\n",
        "    else:\n",
        "      max_start = video_length - need_length\n",
        "      start = random.randint(0, max_start)\n",
        "      end = start + need_length\n",
        "  else:\n",
        "    start = video_annotations['anomaly_1_start']\n",
        "    end = video_annotations['anomaly_1_end']\n",
        "    if need_length < (end - start):\n",
        "      max_start = end - need_length\n",
        "      start = random.randint(start, max_start)\n",
        "      end = start + need_length\n",
        "\n",
        "  src.set(cv2.CAP_PROP_POS_FRAMES, start)\n",
        "\n",
        "  for _ in range(n_frames):\n",
        "    ret, frame = src.read()\n",
        "    if ret and frame is not None:\n",
        "      frame = format_frames(frame, output_size)\n",
        "      result.append(frame)\n",
        "    else:\n",
        "      break\n",
        "  src.release()\n",
        "  result = np.array(result)[..., [2, 1, 0]]\n",
        "\n",
        "  return result"
      ],
      "metadata": {
        "id": "mfcjyCuM-3en"
      },
      "execution_count": null,
      "outputs": []
    },
    {
      "cell_type": "markdown",
      "source": [
        "### Create Dataset Paths"
      ],
      "metadata": {
        "id": "of2cwEy2tAUf"
      }
    },
    {
      "cell_type": "code",
      "source": [
        "dataset_paths = {}\n",
        "dataset_directory = pathlib.Path('/content/drive/MyDrive/ucf_extracted')\n",
        "dataset_paths['train'] = dataset_directory / 'train'\n",
        "dataset_paths['test'] = dataset_directory / 'test'"
      ],
      "metadata": {
        "id": "kUCjbw8HtNFs"
      },
      "execution_count": null,
      "outputs": []
    },
    {
      "cell_type": "code",
      "source": [
        "for p in dataset_paths.values():\n",
        "  assert p.exists() == True"
      ],
      "metadata": {
        "id": "Mf4SoN-ftzk_"
      },
      "execution_count": null,
      "outputs": []
    },
    {
      "cell_type": "code",
      "source": [
        "video_count_train = len(list(dataset_directory.glob('train/*/*.mp4')))\n",
        "video_count_test = len(list(dataset_directory.glob('test/*/*.mp4')))\n",
        "video_total = video_count_train + video_count_test\n",
        "print(f'Total training videos: {video_count_train}')\n",
        "print(f'Total training test: {video_count_test}')\n",
        "print(f\"Total videos: {video_total}\")"
      ],
      "metadata": {
        "colab": {
          "base_uri": "https://localhost:8080/"
        },
        "id": "EeAKdV5OuPBO",
        "outputId": "0f5554b5-2b8f-4eeb-fc66-8d21f642a532"
      },
      "execution_count": null,
      "outputs": [
        {
          "output_type": "stream",
          "name": "stdout",
          "text": [
            "Total training videos: 849\n",
            "Total training test: 150\n",
            "Total videos: 999\n"
          ]
        }
      ]
    },
    {
      "cell_type": "markdown",
      "source": [
        "### Create Dataset Generator\n"
      ],
      "metadata": {
        "id": "spN6fp2yus56"
      }
    },
    {
      "cell_type": "code",
      "source": [
        "class FrameGenerator:\n",
        "  def __init__(self, path, n_frames=num_frames, output_size=(resolution, resolution), frame_step=frame_step, training = False):\n",
        "    \"\"\" Returns a set of frames with their associated label.\n",
        "\n",
        "      Args:\n",
        "        path: Video file paths.\n",
        "        n_frames: Number of frames.\n",
        "        training: Boolean to determine if training dataset is being created.\n",
        "    \"\"\"\n",
        "    self.path = path\n",
        "    self.n_frames = n_frames\n",
        "    self.training = training\n",
        "    self.output_size = output_size\n",
        "    self.class_names = sorted(set(p.name for p in self.path.iterdir() if p.is_dir()))\n",
        "    self.class_ids_for_name = dict((name, idx) for idx, name in enumerate(self.class_names))\n",
        "\n",
        "  def get_files_and_class_names(self):\n",
        "    video_paths = list(self.path.glob('*/*.mp4'))\n",
        "    classes = [p.parent.name for p in video_paths]\n",
        "    return video_paths, classes\n",
        "\n",
        "  def __call__(self):\n",
        "    video_paths, classes = self.get_files_and_class_names()\n",
        "    pairs = list(zip(video_paths, classes))\n",
        "    if self.training:\n",
        "      random.shuffle(pairs)\n",
        "    for path, name in pairs:\n",
        "      try:\n",
        "        video_frames = frames_from_video_file(path, self.n_frames, output_size=self.output_size, frame_step=frame_step)\n",
        "      except Exception as exc:\n",
        "        print(f'Error on {path}')\n",
        "        print(exc)\n",
        "        continue\n",
        "      label = self.class_ids_for_name[name] # Encode labels\n",
        "      yield video_frames, label\n"
      ],
      "metadata": {
        "id": "UtaJ5n13uwvv"
      },
      "execution_count": null,
      "outputs": []
    },
    {
      "cell_type": "code",
      "source": [
        "output_signature = (tf.TensorSpec(shape =(None, resolution, resolution, 3), dtype = tf.float32),\n",
        "                    tf.TensorSpec(shape = (), dtype = tf.int16))\n",
        "\n",
        "train_ds = tf.data.Dataset.from_generator(FrameGenerator(dataset_paths['train'], training = True),\n",
        "                                          output_signature=output_signature\n",
        "                                          )\n",
        "train_ds = train_ds.batch(batch_size)\n",
        "\n",
        "test_ds = tf.data.Dataset.from_generator(FrameGenerator(dataset_paths['test']),\n",
        "                                        output_signature=output_signature\n",
        "                                         )\n",
        "test_ds = test_ds.batch(batch_size)"
      ],
      "metadata": {
        "id": "JrHUIK7PvfvA"
      },
      "execution_count": null,
      "outputs": []
    },
    {
      "cell_type": "code",
      "source": [
        "for frames, labels in train_ds.take(1):\n",
        "  print(f\"Frames Shape: {frames.shape}, Dtype: {frames.dtype}\")\n",
        "  print(f\"Label Shape: {labels.shape}, Dtype: {labels.dtype}\")"
      ],
      "metadata": {
        "id": "4UR5-EbI3Rtp",
        "colab": {
          "base_uri": "https://localhost:8080/"
        },
        "outputId": "4ac0cf1e-9ad6-41fa-8603-eaa5d37b087e"
      },
      "execution_count": null,
      "outputs": [
        {
          "output_type": "stream",
          "name": "stdout",
          "text": [
            "Frames Shape: (1, 64, 172, 172, 3), Dtype: <dtype: 'float32'>\n",
            "Label Shape: (1,), Dtype: <dtype: 'int16'>\n"
          ]
        }
      ]
    },
    {
      "cell_type": "code",
      "source": [
        "# AUTOTUNE = tf.data.AUTOTUNE\n",
        "\n",
        "# train_ds = train_ds.cache().prefetch(buffer_size = AUTOTUNE)\n",
        "# test_ds = test_ds.cache().prefetch(buffer_size = AUTOTUNE)"
      ],
      "metadata": {
        "id": "mWWG0-u99FQM"
      },
      "execution_count": null,
      "outputs": []
    },
    {
      "cell_type": "markdown",
      "source": [
        "## Model Loading"
      ],
      "metadata": {
        "id": "E4V56xn8xWnG"
      }
    },
    {
      "cell_type": "markdown",
      "metadata": {
        "id": "fmdzt6Eu9Afp"
      },
      "source": [
        "### Construct the backbone with proper parameters"
      ]
    },
    {
      "cell_type": "code",
      "execution_count": null,
      "metadata": {
        "id": "msnxCHSa9Cb2"
      },
      "outputs": [],
      "source": [
        "use_positional_encoding = model_id in {'a3', 'a4', 'a5'}\n",
        "\n",
        "backbone = movinet.Movinet(\n",
        "    model_id=model_id,\n",
        "    causal=True,\n",
        "    conv_type='2plus1d',\n",
        "    se_type='2plus3d',\n",
        "    activation='hard_swish',\n",
        "    gating_activation='hard_sigmoid',\n",
        "    use_positional_encoding=use_positional_encoding,\n",
        "    use_external_states=False,\n",
        ")"
      ]
    },
    {
      "cell_type": "markdown",
      "metadata": {
        "id": "iSCnGqY69IzG"
      },
      "source": [
        "### Construct the model"
      ]
    },
    {
      "cell_type": "code",
      "execution_count": null,
      "metadata": {
        "id": "n5m9qZ__eo92"
      },
      "outputs": [],
      "source": [
        "if not start_from_checkpoint:\n",
        "  model = movinet_model.MovinetClassifier(\n",
        "      backbone,\n",
        "      num_classes=600,\n",
        "      output_states=True)\n",
        "\n",
        "  model.build(input_shape)"
      ]
    },
    {
      "cell_type": "markdown",
      "metadata": {
        "id": "6jfwRvD59RyX"
      },
      "source": [
        "### Load the pretrained weights"
      ]
    },
    {
      "cell_type": "code",
      "execution_count": null,
      "metadata": {
        "id": "g7y8zwcz9SJA",
        "colab": {
          "base_uri": "https://localhost:8080/"
        },
        "outputId": "f00d529b-173a-47ed-dc15-857d751d60a9"
      },
      "outputs": [
        {
          "output_type": "stream",
          "name": "stdout",
          "text": [
            "movinet_a0_stream/\n",
            "movinet_a0_stream/ckpt-1.data-00000-of-00001\n",
            "movinet_a0_stream/ckpt-1.index\n",
            "movinet_a0_stream/checkpoint\n"
          ]
        }
      ],
      "source": [
        "if not start_from_checkpoint:\n",
        "  # Extract pretrained weights\n",
        "  !wget https://storage.googleapis.com/tf_model_garden/vision/movinet/movinet_a0_stream.tar.gz -O movinet_a0_stream.tar.gz -q\n",
        "  !tar -xvf movinet_a0_stream.tar.gz\n",
        "\n",
        "  checkpoint_dir = 'movinet_a0_stream'\n",
        "  checkpoint_path = tf.train.latest_checkpoint(checkpoint_dir)\n",
        "  checkpoint = tf.train.Checkpoint(model=model)\n",
        "  status = checkpoint.restore(checkpoint_path)\n",
        "  status.assert_existing_objects_matched()"
      ]
    },
    {
      "cell_type": "markdown",
      "metadata": {
        "id": "X0MyBsZnTrnh"
      },
      "source": [
        "### Set up the distribution strategy"
      ]
    },
    {
      "cell_type": "code",
      "execution_count": null,
      "metadata": {
        "id": "IHyqT0csQvRl",
        "colab": {
          "base_uri": "https://localhost:8080/"
        },
        "outputId": "3fe37afb-8722-446a-da07-29d51640536c"
      },
      "outputs": [
        {
          "output_type": "stream",
          "name": "stdout",
          "text": [
            "Running on single GPU  /device:GPU:0\n",
            "Number of accelerators:  1\n"
          ]
        }
      ],
      "source": [
        "# Detect hardware\n",
        "try:\n",
        "  tpu_resolver = tf.distribute.cluster_resolver.TPUClusterResolver() # TPU detection\n",
        "except ValueError:\n",
        "  tpu_resolver = None\n",
        "  gpus = tf.config.experimental.list_logical_devices(\"GPU\")\n",
        "\n",
        "# Select appropriate distribution strategy\n",
        "if tpu_resolver:\n",
        "  tf.config.experimental_connect_to_cluster(tpu_resolver)\n",
        "  tf.tpu.experimental.initialize_tpu_system(tpu_resolver)\n",
        "  distribution_strategy = tf.distribute.experimental.TPUStrategy(tpu_resolver)\n",
        "  print('Running on TPU ', tpu_resolver.cluster_spec().as_dict()['worker'])\n",
        "elif len(gpus) > 1:\n",
        "  distribution_strategy = tf.distribute.MirroredStrategy([gpu.name for gpu in gpus])\n",
        "  print('Running on multiple GPUs ', [gpu.name for gpu in gpus])\n",
        "elif len(gpus) == 1:\n",
        "  distribution_strategy = tf.distribute.get_strategy() # default strategy that works on CPU and single GPU\n",
        "  print('Running on single GPU ', gpus[0].name)\n",
        "else:\n",
        "  distribution_strategy = tf.distribute.get_strategy() # default strategy that works on CPU and single GPU\n",
        "  print('Running on CPU')\n",
        "\n",
        "print(\"Number of accelerators: \", distribution_strategy.num_replicas_in_sync)"
      ]
    },
    {
      "cell_type": "markdown",
      "metadata": {
        "id": "CmPbIku_9ejS"
      },
      "source": [
        "### Construct custom classifier with required number of classes"
      ]
    },
    {
      "cell_type": "code",
      "execution_count": null,
      "metadata": {
        "id": "lpXf9GFWlE2-"
      },
      "outputs": [],
      "source": [
        "def build_classifier(batch_size, num_frames, resolution, backbone, num_classes, dropout_rate, bias_regularizer):\n",
        "  \"\"\"Builds a classifier on top of a backbone model.\"\"\"\n",
        "  model = movinet_model.MovinetClassifier(\n",
        "      backbone=backbone,\n",
        "      num_classes=num_classes,\n",
        "      dropout_rate=dropout_rate,\n",
        "      bias_regularizer=tf.keras.regularizers.L2(bias_regularizer))\n",
        "  model.build([batch_size, num_frames, resolution, resolution, 3])\n",
        "\n",
        "  return model\n",
        "\n",
        "# Construct loss, optimizer and compile the model\n",
        "with distribution_strategy.scope():\n",
        "  model = build_classifier(batch_size, None, resolution, backbone, num_classes, dropout_rate, bias_regularizer)\n",
        "  loss_obj = tf.keras.losses.SparseCategoricalCrossentropy(from_logits=True)\n",
        "  optimizer = tf.keras.optimizers.Adam(learning_rate = 0.001)\n",
        "  model.compile(loss=loss_obj, optimizer=optimizer, metrics=['accuracy'])"
      ]
    },
    {
      "cell_type": "markdown",
      "source": [
        "### Start From Previous Checkpoint"
      ],
      "metadata": {
        "id": "0o9sYkeu1Pwo"
      }
    },
    {
      "cell_type": "code",
      "source": [
        "if start_from_checkpoint:\n",
        "  model.load_weights(tf.train.latest_checkpoint(paths['checkpoints_dir']))\n",
        "  print('Loading from: ',tf.train.latest_checkpoint(paths['checkpoints_dir']))"
      ],
      "metadata": {
        "id": "w_GyI3Ho1Tm-"
      },
      "execution_count": null,
      "outputs": []
    },
    {
      "cell_type": "markdown",
      "metadata": {
        "id": "j3S6pmEO9y9w"
      },
      "source": [
        "## Model Training"
      ]
    },
    {
      "cell_type": "code",
      "source": [
        "# Create a callback that saves the model's weights\n",
        "cp_callback = tf.keras.callbacks.ModelCheckpoint(filepath=paths['checkpoints_dir'] / 'cp.ckpt',\n",
        "                                                 save_weights_only=True,\n",
        "                                                 verbose=1)"
      ],
      "metadata": {
        "id": "OWbdFNdk2_Ic"
      },
      "execution_count": null,
      "outputs": []
    },
    {
      "cell_type": "code",
      "source": [
        "results = model.fit(train_ds,\n",
        "                    validation_data=test_ds,\n",
        "                    epochs=epochs,\n",
        "                    validation_freq=1,\n",
        "                    verbose=1,\n",
        "                    callbacks=[cp_callback])"
      ],
      "metadata": {
        "id": "P5Q7qA5hxOD2",
        "colab": {
          "base_uri": "https://localhost:8080/"
        },
        "outputId": "17009aa1-f756-4159-da2d-b2b9d3b230ee"
      },
      "execution_count": null,
      "outputs": [
        {
          "output_type": "stream",
          "name": "stdout",
          "text": [
            "Epoch 1/5\n",
            "    849/Unknown - 1088s 1s/step - loss: 0.2862 - accuracy: 0.8846\n",
            "Epoch 1: saving model to /content/drive/MyDrive/ucf_dataset/checkpoints/a0/a0_stream_5.0/cp.ckpt\n",
            "849/849 [==============================] - 1290s 2s/step - loss: 0.2862 - accuracy: 0.8846 - val_loss: 0.9896 - val_accuracy: 0.6600\n",
            "Epoch 2/5\n",
            "849/849 [==============================] - ETA: 0s - loss: 0.2780 - accuracy: 0.8728\n",
            "Epoch 2: saving model to /content/drive/MyDrive/ucf_dataset/checkpoints/a0/a0_stream_5.0/cp.ckpt\n",
            "849/849 [==============================] - 1309s 2s/step - loss: 0.2780 - accuracy: 0.8728 - val_loss: 0.9545 - val_accuracy: 0.6333\n",
            "Epoch 3/5\n",
            "849/849 [==============================] - ETA: 0s - loss: 0.2195 - accuracy: 0.9105\n",
            "Epoch 3: saving model to /content/drive/MyDrive/ucf_dataset/checkpoints/a0/a0_stream_5.0/cp.ckpt\n",
            "849/849 [==============================] - 1289s 2s/step - loss: 0.2195 - accuracy: 0.9105 - val_loss: 1.2549 - val_accuracy: 0.6667\n",
            "Epoch 4/5\n",
            "849/849 [==============================] - ETA: 0s - loss: 0.2087 - accuracy: 0.9199\n",
            "Epoch 4: saving model to /content/drive/MyDrive/ucf_dataset/checkpoints/a0/a0_stream_5.0/cp.ckpt\n",
            "849/849 [==============================] - 1306s 2s/step - loss: 0.2087 - accuracy: 0.9199 - val_loss: 1.1443 - val_accuracy: 0.7000\n",
            "Epoch 5/5\n",
            "849/849 [==============================] - ETA: 0s - loss: 0.1822 - accuracy: 0.9388\n",
            "Epoch 5: saving model to /content/drive/MyDrive/ucf_dataset/checkpoints/a0/a0_stream_5.0/cp.ckpt\n",
            "849/849 [==============================] - 1317s 2s/step - loss: 0.1822 - accuracy: 0.9388 - val_loss: 1.5132 - val_accuracy: 0.5733\n"
          ]
        }
      ]
    },
    {
      "cell_type": "markdown",
      "source": [
        "## Evaluation"
      ],
      "metadata": {
        "id": "z38g9CV9x7W6"
      }
    },
    {
      "cell_type": "markdown",
      "source": [
        "### Plot History"
      ],
      "metadata": {
        "id": "RwpiMfItyXDk"
      }
    },
    {
      "cell_type": "code",
      "source": [
        "def plot_training_history(history):\n",
        "    # Plot training & validation accuracy values\n",
        "    plt.figure()\n",
        "    plt.plot(history.history['accuracy'])\n",
        "    plt.plot(history.history['val_accuracy'])\n",
        "    plt.title('Model accuracy')\n",
        "    plt.xlabel('Epoch')\n",
        "    plt.ylabel('Accuracy')\n",
        "    plt.legend(['Train', 'Validation'], loc='upper left')\n",
        "\n",
        "%matplotlib inline\n",
        "plt.figure()\n",
        "plot_training_history(results)"
      ],
      "metadata": {
        "id": "uthxcrfFyS9c",
        "colab": {
          "base_uri": "https://localhost:8080/",
          "height": 490
        },
        "outputId": "363530d4-cd32-4248-81ad-39303b41e1d4"
      },
      "execution_count": null,
      "outputs": [
        {
          "output_type": "display_data",
          "data": {
            "text/plain": [
              "<Figure size 640x480 with 0 Axes>"
            ]
          },
          "metadata": {}
        },
        {
          "output_type": "display_data",
          "data": {
            "text/plain": [
              "<Figure size 640x480 with 1 Axes>"
            ],
            "image/png": "[encoded data removed]"
          },
          "metadata": {}
        }
      ]
    },
    {
      "cell_type": "markdown",
      "source": [
        "## Exporting Model"
      ],
      "metadata": {
        "id": "tNvQGrqiAAV3"
      }
    },
    {
      "cell_type": "markdown",
      "source": [
        "### Reconstruct the whole model with use_external_states=True to make the inference using states."
      ],
      "metadata": {
        "id": "qZUK0Rqv21uE"
      }
    },
    {
      "cell_type": "code",
      "source": [
        "if export_model:\n",
        "  model_id = 'a0'\n",
        "  use_positional_encoding = model_id in {'a3', 'a4', 'a5'}\n",
        "\n",
        "  # Create backbone and model.\n",
        "  backbone = movinet.Movinet(\n",
        "      model_id=model_id,\n",
        "      causal=True,\n",
        "      conv_type='2plus1d',\n",
        "      se_type='2plus3d',\n",
        "      activation='hard_swish',\n",
        "      gating_activation='hard_sigmoid',\n",
        "      use_positional_encoding=use_positional_encoding,\n",
        "      use_external_states=True,\n",
        "  )\n",
        "\n",
        "  model = movinet_model.MovinetClassifier(\n",
        "      backbone,\n",
        "      num_classes=num_classes,\n",
        "      output_states=True)\n",
        "\n",
        "\n",
        "  # [Optional] Build the model and load a pretrained checkpoint.\n",
        "  model.build(input_shape)\n",
        "\n",
        "  # Load weights from the checkpoint to the rebuilt model\n",
        "  model.load_weights(tf.train.latest_checkpoint(paths['checkpoints_dir']))"
      ],
      "metadata": {
        "id": "vmd7kZL4nQ9S"
      },
      "execution_count": null,
      "outputs": []
    },
    {
      "cell_type": "markdown",
      "source": [
        "### Export to saved model"
      ],
      "metadata": {
        "id": "HEYDIVSr3NUS"
      }
    },
    {
      "cell_type": "code",
      "source": [
        "if export_model:\n",
        "  saved_model_dir = paths['models'] / export_model_name\n",
        "  tflite_filename = paths['tflite']  / (export_model_name + \".tflite\")\n",
        "  # Convert to saved model\n",
        "  export_saved_model.export_saved_model(\n",
        "      model=model,\n",
        "      input_shape=[1, 1, resolution, resolution, 3],\n",
        "      export_path=saved_model_dir,\n",
        "      causal=True,\n",
        "      bundle_input_init_states_fn=False)"
      ],
      "metadata": {
        "id": "reOX9Zskneql"
      },
      "execution_count": null,
      "outputs": []
    },
    {
      "cell_type": "markdown",
      "source": [
        "### Convert to TF Lite"
      ],
      "metadata": {
        "id": "pePv8slH4yOF"
      }
    },
    {
      "cell_type": "code",
      "source": [
        "if export_model:\n",
        "  converter = tf.lite.TFLiteConverter.from_saved_model(str(saved_model_dir))\n",
        "  tflite_model = converter.convert()\n",
        "\n",
        "  with open(tflite_filename, 'wb') as f:\n",
        "    f.write(tflite_model)"
      ],
      "metadata": {
        "id": "nFXGX9nr4xeU"
      },
      "execution_count": null,
      "outputs": []
    }
  ]
}